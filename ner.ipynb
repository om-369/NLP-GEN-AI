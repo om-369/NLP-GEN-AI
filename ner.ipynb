{
  "nbformat": 4,
  "nbformat_minor": 0,
  "metadata": {
    "colab": {
      "provenance": [],
      "authorship_tag": "ABX9TyOjQpAJkGbmTWeygUbwyMy+",
      "include_colab_link": true
    },
    "kernelspec": {
      "name": "python3",
      "display_name": "Python 3"
    },
    "language_info": {
      "name": "python"
    }
  },
  "cells": [
    {
      "cell_type": "markdown",
      "metadata": {
        "id": "view-in-github",
        "colab_type": "text"
      },
      "source": [
        "<a href=\"https://colab.research.google.com/github/om-369/NLP-GEN-AI/blob/main/ner.ipynb\" target=\"_parent\"><img src=\"https://colab.research.google.com/assets/colab-badge.svg\" alt=\"Open In Colab\"/></a>"
      ]
    },
    {
      "cell_type": "code",
      "execution_count": null,
      "metadata": {
        "id": "SKkjIGGDJf3a"
      },
      "outputs": [],
      "source": [
        "import spacy"
      ]
    },
    {
      "cell_type": "code",
      "source": [
        "nlp = spacy.load('en_core_web_sm')"
      ],
      "metadata": {
        "id": "Y1LeZo7iN_i8"
      },
      "execution_count": null,
      "outputs": []
    },
    {
      "cell_type": "code",
      "source": [
        "text = \"Bill gates founded Microsoft\""
      ],
      "metadata": {
        "id": "WsIcR6QoOIvK"
      },
      "execution_count": null,
      "outputs": []
    },
    {
      "cell_type": "code",
      "source": [
        "doc = nlp(text)"
      ],
      "metadata": {
        "id": "L9URiXgCOlyJ"
      },
      "execution_count": null,
      "outputs": []
    },
    {
      "cell_type": "code",
      "source": [
        "doc[0]"
      ],
      "metadata": {
        "colab": {
          "base_uri": "https://localhost:8080/"
        },
        "id": "wIFP5PmvOo1I",
        "outputId": "124cf07b-31ac-4fb6-d198-8f194e227081"
      },
      "execution_count": null,
      "outputs": [
        {
          "output_type": "execute_result",
          "data": {
            "text/plain": [
              "Bill"
            ]
          },
          "metadata": {},
          "execution_count": 5
        }
      ]
    },
    {
      "cell_type": "code",
      "source": [
        "doc[0].pos_"
      ],
      "metadata": {
        "colab": {
          "base_uri": "https://localhost:8080/",
          "height": 35
        },
        "id": "LISpiabFOqp4",
        "outputId": "073fe714-72af-4be7-f118-acd1025b0ef4"
      },
      "execution_count": null,
      "outputs": [
        {
          "output_type": "execute_result",
          "data": {
            "text/plain": [
              "'PROPN'"
            ],
            "application/vnd.google.colaboratory.intrinsic+json": {
              "type": "string"
            }
          },
          "metadata": {},
          "execution_count": 6
        }
      ]
    },
    {
      "cell_type": "code",
      "source": [
        "spacy.explain('PROPN')"
      ],
      "metadata": {
        "colab": {
          "base_uri": "https://localhost:8080/",
          "height": 35
        },
        "id": "A0nqIahQO054",
        "outputId": "88dd1848-986a-4b7c-812e-fe92a9308512"
      },
      "execution_count": null,
      "outputs": [
        {
          "output_type": "execute_result",
          "data": {
            "text/plain": [
              "'proper noun'"
            ],
            "application/vnd.google.colaboratory.intrinsic+json": {
              "type": "string"
            }
          },
          "metadata": {},
          "execution_count": 8
        }
      ]
    },
    {
      "cell_type": "code",
      "source": [
        "for token in doc:\n",
        "    print(token,\"=>\",token.pos_,\"=>\",spacy.explain(token.pos_))"
      ],
      "metadata": {
        "colab": {
          "base_uri": "https://localhost:8080/"
        },
        "id": "W4fwZTY4O7nS",
        "outputId": "1d4a91e9-a391-40f3-afd2-5e280e3e813b"
      },
      "execution_count": null,
      "outputs": [
        {
          "output_type": "stream",
          "name": "stdout",
          "text": [
            "Bill => PROPN => proper noun\n",
            "gates => NOUN => noun\n",
            "founded => VERB => verb\n",
            "Microsoft => PROPN => proper noun\n"
          ]
        }
      ]
    },
    {
      "cell_type": "code",
      "source": [
        "for tag in nlp.get_pipe('tagger').labels:\n",
        "    print(tag,\"=>\",spacy.explain(tag))"
      ],
      "metadata": {
        "colab": {
          "base_uri": "https://localhost:8080/"
        },
        "id": "tra43lnGPUCI",
        "outputId": "c6f16430-dd65-468f-ae31-45719691bada"
      },
      "execution_count": null,
      "outputs": [
        {
          "output_type": "stream",
          "name": "stdout",
          "text": [
            "$ => symbol, currency\n",
            "'' => closing quotation mark\n",
            ", => punctuation mark, comma\n",
            "-LRB- => left round bracket\n",
            "-RRB- => right round bracket\n",
            ". => punctuation mark, sentence closer\n",
            ": => punctuation mark, colon or ellipsis\n",
            "ADD => email\n",
            "AFX => affix\n",
            "CC => conjunction, coordinating\n",
            "CD => cardinal number\n",
            "DT => determiner\n",
            "EX => existential there\n",
            "FW => foreign word\n",
            "HYPH => punctuation mark, hyphen\n",
            "IN => conjunction, subordinating or preposition\n",
            "JJ => adjective (English), other noun-modifier (Chinese)\n",
            "JJR => adjective, comparative\n",
            "JJS => adjective, superlative\n",
            "LS => list item marker\n",
            "MD => verb, modal auxiliary\n",
            "NFP => superfluous punctuation\n",
            "NN => noun, singular or mass\n",
            "NNP => noun, proper singular\n",
            "NNPS => noun, proper plural\n",
            "NNS => noun, plural\n",
            "PDT => predeterminer\n",
            "POS => possessive ending\n",
            "PRP => pronoun, personal\n",
            "PRP$ => pronoun, possessive\n",
            "RB => adverb\n",
            "RBR => adverb, comparative\n",
            "RBS => adverb, superlative\n",
            "RP => adverb, particle\n",
            "SYM => symbol\n",
            "TO => infinitival \"to\"\n",
            "UH => interjection\n",
            "VB => verb, base form\n",
            "VBD => verb, past tense\n",
            "VBG => verb, gerund or present participle\n",
            "VBN => verb, past participle\n",
            "VBP => verb, non-3rd person singular present\n",
            "VBZ => verb, 3rd person singular present\n",
            "WDT => wh-determiner\n",
            "WP => wh-pronoun, personal\n",
            "WP$ => wh-pronoun, possessive\n",
            "WRB => wh-adverb\n",
            "XX => unknown\n",
            "_SP => whitespace\n",
            "`` => opening quotation mark\n"
          ]
        }
      ]
    },
    {
      "cell_type": "code",
      "source": [
        "text = \"$ 1 billion is price of a contract in USA \"\n",
        "\n",
        "doc = nlp(text)\n",
        "for token in doc:\n",
        "  print(token,\"=>\",token.pos_,\"=>\",spacy.explain(token.pos_))"
      ],
      "metadata": {
        "colab": {
          "base_uri": "https://localhost:8080/"
        },
        "id": "fgaNMhjrQD4N",
        "outputId": "6654a9c4-a81c-4d80-8c95-d185491aa533"
      },
      "execution_count": null,
      "outputs": [
        {
          "output_type": "stream",
          "name": "stdout",
          "text": [
            "$ => SYM => symbol\n",
            "1 => NUM => numeral\n",
            "billion => NUM => numeral\n",
            "is => AUX => auxiliary\n",
            "price => NOUN => noun\n",
            "of => ADP => adposition\n",
            "a => DET => determiner\n",
            "contract => NOUN => noun\n",
            "in => ADP => adposition\n",
            "USA => PROPN => proper noun\n"
          ]
        }
      ]
    },
    {
      "cell_type": "code",
      "source": [
        "text = \"1910 में स्थापित ग्लेशियर नेशनल पार्क 1,583 वर्ग मील (4,101 वर्ग किमी) में फैला है , जिसका एक तिहाई हिस्सा लकड़ी की रेखा से ऊपर है। यह पश्चिम और दक्षिण-पश्चिम में फ्लैटहेड नदी और फ्लैटहेड राष्ट्रीय वन, दक्षिण-पूर्व में लुईस और क्लार्क राष्ट्रीय वन और पूर्व में ब्लैकफ़ीट भारतीय आरक्षण से घिरा है।\""
      ],
      "metadata": {
        "id": "ilfQLvtmQynC"
      },
      "execution_count": null,
      "outputs": []
    },
    {
      "cell_type": "code",
      "source": [
        "doc = nlp(text)\n",
        "for token in doc:\n",
        "  print(token,\"=>\",token.pos_,\"=>\",spacy.explain(token.pos_))\n"
      ],
      "metadata": {
        "colab": {
          "base_uri": "https://localhost:8080/"
        },
        "id": "BvMkvG6kRyNY",
        "outputId": "4f4fa68c-a10d-4a89-c19b-ff11560b22a0"
      },
      "execution_count": null,
      "outputs": [
        {
          "output_type": "stream",
          "name": "stdout",
          "text": [
            "1910 => NUM => numeral\n",
            "में => NUM => numeral\n",
            "स्थापित => PROPN => proper noun\n",
            "ग्लेशियर => PROPN => proper noun\n",
            "नेशनल => PUNCT => punctuation\n",
            "पार्क => PROPN => proper noun\n",
            "1,583 => NUM => numeral\n",
            "वर्ग => NOUN => noun\n",
            "मील => ADJ => adjective\n",
            "( => PUNCT => punctuation\n",
            "4,101 => NUM => numeral\n",
            "वर्ग => NOUN => noun\n",
            "किमी => NOUN => noun\n",
            ") => PUNCT => punctuation\n",
            "में => NOUN => noun\n",
            "फैला => PROPN => proper noun\n",
            "है => NUM => numeral\n",
            ", => PUNCT => punctuation\n",
            "जिसका => CCONJ => coordinating conjunction\n",
            "एक => PROPN => proper noun\n",
            "तिहाई => PUNCT => punctuation\n",
            "हिस्सा => PROPN => proper noun\n",
            "लकड़ी => PROPN => proper noun\n",
            "की => PROPN => proper noun\n",
            "रेखा => NOUN => noun\n",
            "से => NOUN => noun\n",
            "ऊपर => PROPN => proper noun\n",
            "है => PROPN => proper noun\n",
            "। => NOUN => noun\n",
            "यह => PROPN => proper noun\n",
            "पश्चिम => NOUN => noun\n",
            "और => NOUN => noun\n",
            "दक्षिण => PROPN => proper noun\n",
            "- => PROPN => proper noun\n",
            "पश्चिम => NOUN => noun\n",
            "में => NOUN => noun\n",
            "फ्लैटहेड => PROPN => proper noun\n",
            "नदी => PROPN => proper noun\n",
            "और => PROPN => proper noun\n",
            "फ्लैटहेड => PROPN => proper noun\n",
            "राष्ट्रीय => PROPN => proper noun\n",
            "वन => ADJ => adjective\n",
            ", => PUNCT => punctuation\n",
            "दक्षिण => PROPN => proper noun\n",
            "- => PUNCT => punctuation\n",
            "पूर्व => PROPN => proper noun\n",
            "में => NOUN => noun\n",
            "लुईस => PROPN => proper noun\n",
            "और => PROPN => proper noun\n",
            "क्लार्क => NOUN => noun\n",
            "राष्ट्रीय => NOUN => noun\n",
            "वन => PROPN => proper noun\n",
            "और => PROPN => proper noun\n",
            "पूर्व => PROPN => proper noun\n",
            "में => PROPN => proper noun\n",
            "ब्लैकफ़ीट => PROPN => proper noun\n",
            "भारतीय => PROPN => proper noun\n",
            "आरक्षण => NOUN => noun\n",
            "से => VERB => verb\n",
            "घिरा => PROPN => proper noun\n",
            "है => PROPN => proper noun\n",
            "। => NOUN => noun\n"
          ]
        }
      ]
    },
    {
      "cell_type": "code",
      "source": [
        "# NER: Name entity recognition"
      ],
      "metadata": {
        "id": "WpWJva6vSJRg"
      },
      "execution_count": null,
      "outputs": []
    },
    {
      "cell_type": "code",
      "source": [
        "text = \"Bill gates founded Microsoft\"\n"
      ],
      "metadata": {
        "id": "0kNkPejCTQd4"
      },
      "execution_count": null,
      "outputs": []
    },
    {
      "cell_type": "code",
      "source": [
        "import spacy"
      ],
      "metadata": {
        "id": "8MW6J26GUHUo"
      },
      "execution_count": null,
      "outputs": []
    },
    {
      "cell_type": "code",
      "source": [
        "ner = spacy.load('en_core_web_sm')"
      ],
      "metadata": {
        "id": "RBuJ_AwNUMw4"
      },
      "execution_count": null,
      "outputs": []
    },
    {
      "cell_type": "code",
      "source": [
        "doc = ner(text)"
      ],
      "metadata": {
        "id": "8HmuIgddUUHX"
      },
      "execution_count": null,
      "outputs": []
    },
    {
      "cell_type": "code",
      "source": [
        "doc[0]"
      ],
      "metadata": {
        "colab": {
          "base_uri": "https://localhost:8080/"
        },
        "id": "pfLy5musUXrn",
        "outputId": "451095e5-911e-43aa-cfb3-e93aba724843"
      },
      "execution_count": null,
      "outputs": [
        {
          "output_type": "execute_result",
          "data": {
            "text/plain": [
              "Bill"
            ]
          },
          "metadata": {},
          "execution_count": 21
        }
      ]
    },
    {
      "cell_type": "code",
      "source": [
        "type(doc[0])"
      ],
      "metadata": {
        "colab": {
          "base_uri": "https://localhost:8080/"
        },
        "id": "-KtsbAW3UaZ3",
        "outputId": "7382e692-d353-4364-ca74-c0ac82c1b918"
      },
      "execution_count": null,
      "outputs": [
        {
          "output_type": "execute_result",
          "data": {
            "text/plain": [
              "spacy.tokens.token.Token"
            ]
          },
          "metadata": {},
          "execution_count": 22
        }
      ]
    },
    {
      "cell_type": "code",
      "source": [
        "type(doc[0:3])"
      ],
      "metadata": {
        "colab": {
          "base_uri": "https://localhost:8080/"
        },
        "id": "WPOG6Tq9Ue1H",
        "outputId": "8ee8bb92-3181-4c48-cc5a-2c852003b988"
      },
      "execution_count": null,
      "outputs": [
        {
          "output_type": "execute_result",
          "data": {
            "text/plain": [
              "spacy.tokens.span.Span"
            ]
          },
          "metadata": {},
          "execution_count": 23
        }
      ]
    },
    {
      "cell_type": "code",
      "source": [
        "doc.ents"
      ],
      "metadata": {
        "colab": {
          "base_uri": "https://localhost:8080/"
        },
        "id": "74E7-lNnVmK7",
        "outputId": "a12dd843-5b13-4f10-8f71-f29efa602ee1"
      },
      "execution_count": null,
      "outputs": [
        {
          "output_type": "execute_result",
          "data": {
            "text/plain": [
              "(Bill, Microsoft)"
            ]
          },
          "metadata": {},
          "execution_count": 29
        }
      ]
    },
    {
      "cell_type": "code",
      "source": [
        "for entity in doc.ents:\n",
        "  print(entity.text,\"=>\",entity.label_)"
      ],
      "metadata": {
        "colab": {
          "base_uri": "https://localhost:8080/"
        },
        "id": "dwg6DCIAUpvX",
        "outputId": "20d8683a-f1d8-4a31-dcf5-fb2829800247"
      },
      "execution_count": null,
      "outputs": [
        {
          "output_type": "stream",
          "name": "stdout",
          "text": [
            "Bill => PERSON\n",
            "Microsoft => ORG\n"
          ]
        }
      ]
    },
    {
      "cell_type": "code",
      "source": [
        "from spacy import displacy"
      ],
      "metadata": {
        "id": "S5NrPDJfVDxg"
      },
      "execution_count": null,
      "outputs": []
    },
    {
      "cell_type": "code",
      "source": [
        "text1 = doc.ents"
      ],
      "metadata": {
        "id": "lqWq_AL2V4yp"
      },
      "execution_count": null,
      "outputs": []
    },
    {
      "cell_type": "code",
      "source": [
        "displacy.render(text1, style = 'ent',jupyter = True)"
      ],
      "metadata": {
        "colab": {
          "base_uri": "https://localhost:8080/",
          "height": 87
        },
        "id": "6sc90GN7V9lX",
        "outputId": "495d7d80-2668-483c-fcb4-65c43dca8dae"
      },
      "execution_count": null,
      "outputs": [
        {
          "output_type": "display_data",
          "data": {
            "text/plain": [
              "<IPython.core.display.HTML object>"
            ],
            "text/html": [
              "<span class=\"tex2jax_ignore\"><div class=\"entities\" style=\"line-height: 2.5; direction: ltr\">\n",
              "<mark class=\"entity\" style=\"background: #aa9cfc; padding: 0.45em 0.6em; margin: 0 0.25em; line-height: 1; border-radius: 0.35em;\">\n",
              "    Bill\n",
              "    <span style=\"font-size: 0.8em; font-weight: bold; line-height: 1; border-radius: 0.35em; vertical-align: middle; margin-left: 0.5rem\">PERSON</span>\n",
              "</mark>\n",
              " </div>\n",
              "\n",
              "<div class=\"entities\" style=\"line-height: 2.5; direction: ltr\">\n",
              "<mark class=\"entity\" style=\"background: #7aecec; padding: 0.45em 0.6em; margin: 0 0.25em; line-height: 1; border-radius: 0.35em;\">\n",
              "    Microsoft\n",
              "    <span style=\"font-size: 0.8em; font-weight: bold; line-height: 1; border-radius: 0.35em; vertical-align: middle; margin-left: 0.5rem\">ORG</span>\n",
              "</mark>\n",
              "</div></span>"
            ]
          },
          "metadata": {}
        }
      ]
    },
    {
      "cell_type": "code",
      "source": [
        "for ent in ner.get_pipe('ner').labels:\n",
        "  print(ent,'=>',spacy.explain(ent))"
      ],
      "metadata": {
        "colab": {
          "base_uri": "https://localhost:8080/"
        },
        "id": "DVUJB7ucWNgX",
        "outputId": "1e390044-f5b0-4312-904d-e6840b991775"
      },
      "execution_count": null,
      "outputs": [
        {
          "output_type": "stream",
          "name": "stdout",
          "text": [
            "CARDINAL => Numerals that do not fall under another type\n",
            "DATE => Absolute or relative dates or periods\n",
            "EVENT => Named hurricanes, battles, wars, sports events, etc.\n",
            "FAC => Buildings, airports, highways, bridges, etc.\n",
            "GPE => Countries, cities, states\n",
            "LANGUAGE => Any named language\n",
            "LAW => Named documents made into laws.\n",
            "LOC => Non-GPE locations, mountain ranges, bodies of water\n",
            "MONEY => Monetary values, including unit\n",
            "NORP => Nationalities or religious or political groups\n",
            "ORDINAL => \"first\", \"second\", etc.\n",
            "ORG => Companies, agencies, institutions, etc.\n",
            "PERCENT => Percentage, including \"%\"\n",
            "PERSON => People, including fictional\n",
            "PRODUCT => Objects, vehicles, foods, etc. (not services)\n",
            "QUANTITY => Measurements, as of weight or distance\n",
            "TIME => Times smaller than a day\n",
            "WORK_OF_ART => Titles of books, songs, etc.\n"
          ]
        }
      ]
    },
    {
      "cell_type": "code",
      "source": [
        "text = \"Elon musk is a CEO of Tesla\""
      ],
      "metadata": {
        "id": "bl2SAe5AW1Gw"
      },
      "execution_count": null,
      "outputs": []
    },
    {
      "cell_type": "code",
      "source": [
        "doc = ner(text)\n",
        "\n",
        "for entity in doc.ents:\n",
        "  print(entity.text,\"=>\",entity.label_)\n"
      ],
      "metadata": {
        "colab": {
          "base_uri": "https://localhost:8080/"
        },
        "id": "oPC2ydBzXVnQ",
        "outputId": "e40bb0e4-27e0-445e-99c4-73c84cf2e96b"
      },
      "execution_count": null,
      "outputs": [
        {
          "output_type": "stream",
          "name": "stdout",
          "text": [
            "Tesla => ORG\n"
          ]
        }
      ]
    },
    {
      "cell_type": "code",
      "source": [
        "text = 'we are learning in velocity'\n",
        "doc = ner(text)\n",
        "for entity in doc.ents:\n",
        "  print(entity.text,\"=>\",entity.label_)"
      ],
      "metadata": {
        "id": "k-QsfsspXYNX"
      },
      "execution_count": null,
      "outputs": []
    },
    {
      "cell_type": "code",
      "source": [
        "#  ways to build NER on custom entities\n",
        "\n",
        "1. dictionary\n",
        "2. rule based : regex --- entity ruler\n",
        "3. ML : fine tunning of spacy3 model . use BERT model"
      ],
      "metadata": {
        "id": "hSSnQDiGYKZf"
      },
      "execution_count": null,
      "outputs": []
    },
    {
      "cell_type": "code",
      "source": [
        "tags = {\"velocity\": 'ORG'}\n"
      ],
      "metadata": {
        "id": "Kxq4_Zp2YiYZ"
      },
      "execution_count": null,
      "outputs": []
    },
    {
      "cell_type": "code",
      "source": [
        "doc[4:5]"
      ],
      "metadata": {
        "colab": {
          "base_uri": "https://localhost:8080/"
        },
        "id": "EBQOawcIYzPv",
        "outputId": "e12dabcd-8fad-4d1c-a10b-7167558d0fc1"
      },
      "execution_count": null,
      "outputs": [
        {
          "output_type": "execute_result",
          "data": {
            "text/plain": [
              "velocity"
            ]
          },
          "metadata": {},
          "execution_count": 56
        }
      ]
    },
    {
      "cell_type": "code",
      "source": [
        "from spacy.tokens import Span"
      ],
      "metadata": {
        "id": "gillEFvAY142"
      },
      "execution_count": null,
      "outputs": []
    },
    {
      "cell_type": "code",
      "source": [
        "span1 = Span(doc, 4, 5, label = \"ORG\")\n"
      ],
      "metadata": {
        "id": "VNT1kVo9Y8qW"
      },
      "execution_count": null,
      "outputs": []
    },
    {
      "cell_type": "code",
      "source": [
        "doc.set_ents([span1],default = \"unmodified\")"
      ],
      "metadata": {
        "id": "gZhvjbSCZZx2"
      },
      "execution_count": null,
      "outputs": []
    },
    {
      "cell_type": "code",
      "source": [
        "# doc = ner(text)\n",
        "for entity in doc.ents:\n",
        "  print(entity.text,\"=>\",entity.label_)"
      ],
      "metadata": {
        "colab": {
          "base_uri": "https://localhost:8080/"
        },
        "id": "QkLwpJ3jZkIV",
        "outputId": "b96a23c2-1c9b-4aa4-b768-217176a86ce9"
      },
      "execution_count": null,
      "outputs": [
        {
          "output_type": "stream",
          "name": "stdout",
          "text": [
            "velocity => ORG\n"
          ]
        }
      ]
    },
    {
      "cell_type": "code",
      "source": [
        "#  Entity Ruler"
      ],
      "metadata": {
        "id": "Dli7ymYfaeQ-"
      },
      "execution_count": null,
      "outputs": []
    },
    {
      "cell_type": "code",
      "source": [
        "import spacy"
      ],
      "metadata": {
        "id": "WHCZ9acCbCBB"
      },
      "execution_count": null,
      "outputs": []
    },
    {
      "cell_type": "code",
      "source": [
        "ner = spacy.load ('en_core_web_sm')"
      ],
      "metadata": {
        "id": "Q-nVNm9sbEox"
      },
      "execution_count": null,
      "outputs": []
    },
    {
      "cell_type": "code",
      "source": [
        "ner.pipe_names"
      ],
      "metadata": {
        "colab": {
          "base_uri": "https://localhost:8080/"
        },
        "id": "KwVPBd_8bNd2",
        "outputId": "dbb80dca-4573-46db-b954-325b264b10b0"
      },
      "execution_count": null,
      "outputs": [
        {
          "output_type": "execute_result",
          "data": {
            "text/plain": [
              "['tok2vec', 'tagger', 'parser', 'attribute_ruler', 'lemmatizer', 'ner']"
            ]
          },
          "metadata": {},
          "execution_count": 20
        }
      ]
    },
    {
      "cell_type": "code",
      "source": [
        "text = 'we are learning in velocity , 8446239369 phone no is 8080941310'\n"
      ],
      "metadata": {
        "id": "kPhuTuyabUH0"
      },
      "execution_count": null,
      "outputs": []
    },
    {
      "cell_type": "code",
      "source": [
        "doc = ner(text)"
      ],
      "metadata": {
        "id": "-bRMmTCwbimU"
      },
      "execution_count": null,
      "outputs": []
    },
    {
      "cell_type": "code",
      "source": [
        "doc[0]"
      ],
      "metadata": {
        "colab": {
          "base_uri": "https://localhost:8080/"
        },
        "id": "yrtgZ-nKboIN",
        "outputId": "76570239-e916-4ce7-ca28-b582fdddfdc7"
      },
      "execution_count": null,
      "outputs": [
        {
          "output_type": "execute_result",
          "data": {
            "text/plain": [
              "we"
            ]
          },
          "metadata": {},
          "execution_count": 23
        }
      ]
    },
    {
      "cell_type": "code",
      "source": [
        "from spacy.pipeline import EntityRuler"
      ],
      "metadata": {
        "id": "RSseXj2xbphN"
      },
      "execution_count": null,
      "outputs": []
    },
    {
      "cell_type": "code",
      "source": [
        "nlp = spacy.load('en_core_web_sm')"
      ],
      "metadata": {
        "id": "DSe-2csEdwQc"
      },
      "execution_count": null,
      "outputs": []
    },
    {
      "cell_type": "code",
      "source": [
        "pattern = [{'label':\"PHONE\" ,\"pattern\":[{'TEXT':{'REGEX' :'[0-9]{10}'}}]}]"
      ],
      "metadata": {
        "id": "G9w1ME5nb0dV"
      },
      "execution_count": null,
      "outputs": []
    },
    {
      "cell_type": "code",
      "source": [
        "# pattern = [{'label':'PHONE','pattern':\"+91-8080941310\"}]"
      ],
      "metadata": {
        "id": "xYp8ZTV_d4DG"
      },
      "execution_count": null,
      "outputs": []
    },
    {
      "cell_type": "code",
      "source": [
        "ruler = ner.add_pipe('entity_ruler',before = 'ner')"
      ],
      "metadata": {
        "colab": {
          "base_uri": "https://localhost:8080/",
          "height": 280
        },
        "id": "4M8XxjoQciYf",
        "outputId": "8b285339-8c29-45c9-f46e-fdbb1dae939b"
      },
      "execution_count": null,
      "outputs": [
        {
          "output_type": "error",
          "ename": "ValueError",
          "evalue": "[E007] 'entity_ruler' already exists in pipeline. Existing names: ['tok2vec', 'tagger', 'parser', 'senter', 'attribute_ruler', 'lemmatizer', 'entity_ruler', 'ner']",
          "traceback": [
            "\u001b[0;31m---------------------------------------------------------------------------\u001b[0m",
            "\u001b[0;31mValueError\u001b[0m                                Traceback (most recent call last)",
            "\u001b[0;32m<ipython-input-36-025cd24a83ab>\u001b[0m in \u001b[0;36m<cell line: 1>\u001b[0;34m()\u001b[0m\n\u001b[0;32m----> 1\u001b[0;31m \u001b[0mruler\u001b[0m \u001b[0;34m=\u001b[0m \u001b[0mner\u001b[0m\u001b[0;34m.\u001b[0m\u001b[0madd_pipe\u001b[0m\u001b[0;34m(\u001b[0m\u001b[0;34m'entity_ruler'\u001b[0m\u001b[0;34m,\u001b[0m\u001b[0mbefore\u001b[0m \u001b[0;34m=\u001b[0m \u001b[0;34m'ner'\u001b[0m\u001b[0;34m)\u001b[0m\u001b[0;34m\u001b[0m\u001b[0;34m\u001b[0m\u001b[0m\n\u001b[0m",
            "\u001b[0;32m/usr/local/lib/python3.10/dist-packages/spacy/language.py\u001b[0m in \u001b[0;36madd_pipe\u001b[0;34m(self, factory_name, name, before, after, first, last, source, config, raw_config, validate)\u001b[0m\n\u001b[1;32m    808\u001b[0m         \u001b[0mname\u001b[0m \u001b[0;34m=\u001b[0m \u001b[0mname\u001b[0m \u001b[0;32mif\u001b[0m \u001b[0mname\u001b[0m \u001b[0;32mis\u001b[0m \u001b[0;32mnot\u001b[0m \u001b[0;32mNone\u001b[0m \u001b[0;32melse\u001b[0m \u001b[0mfactory_name\u001b[0m\u001b[0;34m\u001b[0m\u001b[0;34m\u001b[0m\u001b[0m\n\u001b[1;32m    809\u001b[0m         \u001b[0;32mif\u001b[0m \u001b[0mname\u001b[0m \u001b[0;32min\u001b[0m \u001b[0mself\u001b[0m\u001b[0;34m.\u001b[0m\u001b[0mcomponent_names\u001b[0m\u001b[0;34m:\u001b[0m\u001b[0;34m\u001b[0m\u001b[0;34m\u001b[0m\u001b[0m\n\u001b[0;32m--> 810\u001b[0;31m             \u001b[0;32mraise\u001b[0m \u001b[0mValueError\u001b[0m\u001b[0;34m(\u001b[0m\u001b[0mErrors\u001b[0m\u001b[0;34m.\u001b[0m\u001b[0mE007\u001b[0m\u001b[0;34m.\u001b[0m\u001b[0mformat\u001b[0m\u001b[0;34m(\u001b[0m\u001b[0mname\u001b[0m\u001b[0;34m=\u001b[0m\u001b[0mname\u001b[0m\u001b[0;34m,\u001b[0m \u001b[0mopts\u001b[0m\u001b[0;34m=\u001b[0m\u001b[0mself\u001b[0m\u001b[0;34m.\u001b[0m\u001b[0mcomponent_names\u001b[0m\u001b[0;34m)\u001b[0m\u001b[0;34m)\u001b[0m\u001b[0;34m\u001b[0m\u001b[0;34m\u001b[0m\u001b[0m\n\u001b[0m\u001b[1;32m    811\u001b[0m         \u001b[0;31m# Overriding pipe name in the config is not supported and will be ignored.\u001b[0m\u001b[0;34m\u001b[0m\u001b[0;34m\u001b[0m\u001b[0m\n\u001b[1;32m    812\u001b[0m         \u001b[0;32mif\u001b[0m \u001b[0;34m\"name\"\u001b[0m \u001b[0;32min\u001b[0m \u001b[0mconfig\u001b[0m\u001b[0;34m:\u001b[0m\u001b[0;34m\u001b[0m\u001b[0;34m\u001b[0m\u001b[0m\n",
            "\u001b[0;31mValueError\u001b[0m: [E007] 'entity_ruler' already exists in pipeline. Existing names: ['tok2vec', 'tagger', 'parser', 'senter', 'attribute_ruler', 'lemmatizer', 'entity_ruler', 'ner']"
          ]
        }
      ]
    },
    {
      "cell_type": "code",
      "source": [
        "ruler.add_patterns(pattern)"
      ],
      "metadata": {
        "id": "EaEESUl2dUxV"
      },
      "execution_count": null,
      "outputs": []
    },
    {
      "cell_type": "code",
      "source": [
        "ruler.pipe_names"
      ],
      "metadata": {
        "colab": {
          "base_uri": "https://localhost:8080/",
          "height": 141
        },
        "id": "VmWRSvBSdYhz",
        "outputId": "71e10baa-0e85-404a-d0db-c976bf7b1398"
      },
      "execution_count": null,
      "outputs": [
        {
          "output_type": "error",
          "ename": "AttributeError",
          "evalue": "'EntityRuler' object has no attribute 'pipe_names'",
          "traceback": [
            "\u001b[0;31m---------------------------------------------------------------------------\u001b[0m",
            "\u001b[0;31mAttributeError\u001b[0m                            Traceback (most recent call last)",
            "\u001b[0;32m<ipython-input-38-8743fcf504e0>\u001b[0m in \u001b[0;36m<cell line: 1>\u001b[0;34m()\u001b[0m\n\u001b[0;32m----> 1\u001b[0;31m \u001b[0mruler\u001b[0m\u001b[0;34m.\u001b[0m\u001b[0mpipe_names\u001b[0m\u001b[0;34m\u001b[0m\u001b[0;34m\u001b[0m\u001b[0m\n\u001b[0m",
            "\u001b[0;31mAttributeError\u001b[0m: 'EntityRuler' object has no attribute 'pipe_names'"
          ]
        }
      ]
    },
    {
      "cell_type": "code",
      "source": [
        "doc = nlp(text)"
      ],
      "metadata": {
        "id": "_pnDNzeHeXuw"
      },
      "execution_count": null,
      "outputs": []
    },
    {
      "cell_type": "code",
      "source": [
        "new_ner = ner(doc)"
      ],
      "metadata": {
        "id": "nb0b7_qBde9S"
      },
      "execution_count": null,
      "outputs": []
    },
    {
      "cell_type": "code",
      "source": [
        "for ent in new_ner.ents:\n",
        "  print(ent.text,\"=>\",ent.label_)"
      ],
      "metadata": {
        "colab": {
          "base_uri": "https://localhost:8080/"
        },
        "id": "k_RnRLi4eNlV",
        "outputId": "ec51515c-5720-4861-9c2e-ae51e844c311"
      },
      "execution_count": null,
      "outputs": [
        {
          "output_type": "stream",
          "name": "stdout",
          "text": [
            "8446239369 => CARDINAL\n",
            "8080941310 => DATE\n"
          ]
        }
      ]
    },
    {
      "cell_type": "code",
      "source": [
        "import spacy"
      ],
      "metadata": {
        "id": "7fK5Qss0eUSP"
      },
      "execution_count": null,
      "outputs": []
    },
    {
      "cell_type": "code",
      "source": [
        "nlp22 = spacy.load('en_core_web_sm')"
      ],
      "metadata": {
        "id": "6XvDRLodf6-E"
      },
      "execution_count": null,
      "outputs": []
    },
    {
      "cell_type": "code",
      "source": [
        "nlp22.pipe_names"
      ],
      "metadata": {
        "colab": {
          "base_uri": "https://localhost:8080/"
        },
        "id": "OjOIytZkf_AE",
        "outputId": "7e4cdbe1-39e2-4f1f-bfe6-2c37c0c1dfc0"
      },
      "execution_count": null,
      "outputs": [
        {
          "output_type": "execute_result",
          "data": {
            "text/plain": [
              "['tok2vec', 'tagger', 'parser', 'attribute_ruler', 'lemmatizer', 'ner']"
            ]
          },
          "metadata": {},
          "execution_count": 43
        }
      ]
    },
    {
      "cell_type": "code",
      "source": [],
      "metadata": {
        "id": "ETIBdj-RhOW7"
      },
      "execution_count": null,
      "outputs": []
    },
    {
      "cell_type": "code",
      "source": [
        "print(nlp22.pipe(text))"
      ],
      "metadata": {
        "colab": {
          "base_uri": "https://localhost:8080/"
        },
        "id": "dO7CIoESgDI6",
        "outputId": "b940fc3e-bd9f-4b9b-d648-173156619c4c"
      },
      "execution_count": null,
      "outputs": [
        {
          "output_type": "stream",
          "name": "stdout",
          "text": [
            "<generator object Language.pipe at 0x7f120e7857e0>\n"
          ]
        }
      ]
    },
    {
      "cell_type": "code",
      "source": [],
      "metadata": {
        "id": "liijldJagMvk"
      },
      "execution_count": null,
      "outputs": []
    }
  ]
}