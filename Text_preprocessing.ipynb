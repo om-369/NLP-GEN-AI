{
  "nbformat": 4,
  "nbformat_minor": 0,
  "metadata": {
    "colab": {
      "provenance": [],
      "authorship_tag": "ABX9TyNSoTSJ8sOE4C1pj0VbfvYr",
      "include_colab_link": true
    },
    "kernelspec": {
      "name": "python3",
      "display_name": "Python 3"
    },
    "language_info": {
      "name": "python"
    }
  },
  "cells": [
    {
      "cell_type": "markdown",
      "metadata": {
        "id": "view-in-github",
        "colab_type": "text"
      },
      "source": [
        "<a href=\"https://colab.research.google.com/github/om-369/NLP-GEN-AI/blob/main/Text_preprocessing.ipynb\" target=\"_parent\"><img src=\"https://colab.research.google.com/assets/colab-badge.svg\" alt=\"Open In Colab\"/></a>"
      ]
    },
    {
      "cell_type": "code",
      "execution_count": null,
      "metadata": {
        "id": "3J29at8klCFd"
      },
      "outputs": [],
      "source": [
        "# Regex ----> REgular expression\n"
      ]
    },
    {
      "cell_type": "code",
      "source": [
        "# raw string v/s regualr string\n",
        "print('\\thello')\n",
        "print(r'\\thello')"
      ],
      "metadata": {
        "colab": {
          "base_uri": "https://localhost:8080/"
        },
        "id": "mA3El59Xwo_j",
        "outputId": "4cb5af66-df2b-4f18-9bf3-185c35a9cb19"
      },
      "execution_count": null,
      "outputs": [
        {
          "output_type": "stream",
          "name": "stdout",
          "text": [
            "\thello\n",
            "\\thello\n"
          ]
        }
      ]
    },
    {
      "cell_type": "code",
      "source": [
        "import re\n"
      ],
      "metadata": {
        "id": "ZW10nc4Gw1Sh"
      },
      "execution_count": null,
      "outputs": []
    },
    {
      "cell_type": "code",
      "source": [
        "text = \"abca123Abc789\""
      ],
      "metadata": {
        "id": "HtWyya2-xlMR"
      },
      "execution_count": null,
      "outputs": []
    },
    {
      "cell_type": "code",
      "source": [
        "refindall = re.findall(r'\\d',text)\n",
        "refindall"
      ],
      "metadata": {
        "colab": {
          "base_uri": "https://localhost:8080/"
        },
        "id": "B6QXEv9Ox1yR",
        "outputId": "e12f9c3a-ad53-44f9-f9e6-3372251ca731"
      },
      "execution_count": null,
      "outputs": [
        {
          "output_type": "execute_result",
          "data": {
            "text/plain": [
              "['1', '2', '3', '7', '8', '9']"
            ]
          },
          "metadata": {},
          "execution_count": 11
        }
      ]
    },
    {
      "cell_type": "code",
      "source": [
        "# \\d --- > Digit(0-9)\n",
        "# \\D----> not a digit(0-9)\n",
        "# \\w -----> word character(a-z, A-Z, 0-9,_)\n",
        "# \\W -----> not a word character\n",
        "# \\s -----> space character -- white characters\n",
        "# \\S -----> not a space character -- no white spaces(space, tab, newline)\n",
        "\n",
        "\n",
        "# \\b ---> wourd boundary\n",
        "# \\B ---> not a word boundary\n",
        "\n",
        "\n",
        "#  ^ ---> Beginning of string\n",
        "# $---> end of string\n",
        "\n",
        "\n",
        "# [] ---> MAtches characters in brackets\n",
        "# [^] ---> Matches characters not in brackets\n",
        "# | ---> Either or\n",
        "# () ---> Capture groups\n",
        "\n",
        "# Quantifiers:\n",
        "# * ----> 0 or more\n",
        "# + ----> 1 or more\n",
        "# ? ----> 0 or 1\n",
        "# {n} ----> n, exact number\n",
        "# {n,m} ----> n to m , Range of numbers\n",
        "\n",
        "\n",
        "# Sample REgexs  :\n",
        "# [a-zA-Z] -\n",
        "# [0-9]\n",
        "# [a-zA-Z0-9]\n"
      ],
      "metadata": {
        "id": "BN03JcPTx_oB"
      },
      "execution_count": null,
      "outputs": []
    },
    {
      "cell_type": "code",
      "source": [
        "phone_number  = \"8446239369\"\n"
      ],
      "metadata": {
        "id": "LzGV5PFeyuuh"
      },
      "execution_count": null,
      "outputs": []
    },
    {
      "cell_type": "code",
      "source": [
        "re.findall(r'\\d{1,5}',phone_number)"
      ],
      "metadata": {
        "colab": {
          "base_uri": "https://localhost:8080/"
        },
        "id": "5dMn_OdF1yJK",
        "outputId": "29fa5a75-d855-4b19-f08c-cb77129c555c"
      },
      "execution_count": null,
      "outputs": [
        {
          "output_type": "execute_result",
          "data": {
            "text/plain": [
              "['84462', '39369']"
            ]
          },
          "metadata": {},
          "execution_count": 19
        }
      ]
    },
    {
      "cell_type": "code",
      "source": [
        "string = '''\n",
        "name:\n",
        "mr.john\n",
        "mr.smith\n",
        "\n",
        "844-623-9369\n",
        "808-094-1310\n",
        "\n",
        "jphn369@gmail.com\n",
        "smith963@gmail.com\n",
        "om999@yahoo.com\n",
        "bunny.wankhede5717@gmail.com\n",
        "\n",
        "'''\n",
        "re.findall(r'mr.?\\w*',string)"
      ],
      "metadata": {
        "colab": {
          "base_uri": "https://localhost:8080/"
        },
        "id": "yHG6zv914lUl",
        "outputId": "7808a656-73b8-44b8-b84b-daddae56982e"
      },
      "execution_count": null,
      "outputs": [
        {
          "output_type": "execute_result",
          "data": {
            "text/plain": [
              "['mr.john', 'mr.smith']"
            ]
          },
          "metadata": {},
          "execution_count": 72
        }
      ]
    },
    {
      "cell_type": "code",
      "source": [
        "re.findall(r'\\d{3}[-]\\d{3}[-]\\d{3,4}', string)"
      ],
      "metadata": {
        "colab": {
          "base_uri": "https://localhost:8080/"
        },
        "id": "UaekUo2_5Thv",
        "outputId": "f70ecece-db6a-44c4-d9d5-0724dba6f8ba"
      },
      "execution_count": null,
      "outputs": [
        {
          "output_type": "execute_result",
          "data": {
            "text/plain": [
              "['844-623-9369', '808-094-1310']"
            ]
          },
          "metadata": {},
          "execution_count": 70
        }
      ]
    },
    {
      "cell_type": "code",
      "source": [
        "re.findall(r'\\w*[@]\\w*.\\w*',string)"
      ],
      "metadata": {
        "colab": {
          "base_uri": "https://localhost:8080/"
        },
        "id": "0w7-gccy6Mqo",
        "outputId": "22be2e3f-8d02-4e57-a256-e8640f60feeb"
      },
      "execution_count": null,
      "outputs": [
        {
          "output_type": "execute_result",
          "data": {
            "text/plain": [
              "['jphn369@gmail.com',\n",
              " 'smith963@gmail.com',\n",
              " 'om999@yahoo.com',\n",
              " 'wankhede5717@gmail.com']"
            ]
          },
          "metadata": {},
          "execution_count": 71
        }
      ]
    },
    {
      "cell_type": "code",
      "source": [
        "text =\"\"\"\n",
        "Machine learning (ML) is the subset of artificial intelligence (AI) that focuses on building systems that learn—or improve performance—based on\n",
        "the data they consume.\n",
        "Artificial intelligence is a broad term that refers to systems or machines that mimic human intelligence.\n",
        "[1] Machine learning and AI are often discussed together, and the terms are sometimes used interchangeably, but they don’t mean the same thing.\n",
        " An important distinction is that although all machine learning is AI, not all AI is machine learning.\n",
        "\n",
        "Today, machine learning is at work all around us. When we interact with banks, shop online, or use social media,\n",
        " machine learning algorithms come into play to make our experience efficient, smooth, and secure.\n",
        " Machine learning and the technology around it are developing rapidly, and we're just beginning to scratch the surface of its capabilities.\"\"\"\n"
      ],
      "metadata": {
        "id": "wiXnYYpT8sSs"
      },
      "execution_count": null,
      "outputs": []
    },
    {
      "cell_type": "code",
      "source": [
        "re.findall(r'\\d[\\d\\][a-zA-Z].*\\s*\\w*',text)"
      ],
      "metadata": {
        "colab": {
          "base_uri": "https://localhost:8080/"
        },
        "id": "M-u_UvnMH-pl",
        "outputId": "1c4e175b-d599-47cd-e15a-ccc46d7f5be6"
      },
      "execution_count": null,
      "outputs": [
        {
          "output_type": "execute_result",
          "data": {
            "text/plain": [
              "['1] Machine learning and AI are often discussed together, and the terms are sometimes used interchangeably, but they don’t mean the same thing. \\n An']"
            ]
          },
          "metadata": {},
          "execution_count": 74
        }
      ]
    },
    {
      "cell_type": "code",
      "source": [
        "re.findall(r'd{2}[-]\\d{2}[-]\\d{4}',text)"
      ],
      "metadata": {
        "colab": {
          "base_uri": "https://localhost:8080/"
        },
        "id": "TbW75R0uIU0b",
        "outputId": "082d7272-2dd7-408e-c89a-ecce550371df"
      },
      "execution_count": null,
      "outputs": [
        {
          "output_type": "execute_result",
          "data": {
            "text/plain": [
              "[]"
            ]
          },
          "metadata": {},
          "execution_count": 75
        }
      ]
    },
    {
      "cell_type": "code",
      "source": [
        "re.findall(r'\\d[\\d\\][a-zA-Z].*\\s*',text)"
      ],
      "metadata": {
        "colab": {
          "base_uri": "https://localhost:8080/"
        },
        "id": "ydk1eQvKIpjb",
        "outputId": "aca550d4-c783-458f-d4a2-a64bf023e682"
      },
      "execution_count": null,
      "outputs": [
        {
          "output_type": "execute_result",
          "data": {
            "text/plain": [
              "['1] Machine learning and AI are often discussed together, and the terms are sometimes used interchangeably, but they don’t mean the same thing. \\n ']"
            ]
          },
          "metadata": {},
          "execution_count": 81
        }
      ]
    },
    {
      "cell_type": "code",
      "source": [
        "\n",
        "\n",
        "\n",
        "\n"
      ],
      "metadata": {
        "id": "SKlJV_MRJFO6"
      },
      "execution_count": null,
      "outputs": []
    }
  ]
}