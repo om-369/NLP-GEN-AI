{
  "nbformat": 4,
  "nbformat_minor": 0,
  "metadata": {
    "colab": {
      "provenance": [],
      "authorship_tag": "ABX9TyMCg3kPExOkD25W2ez5REm9",
      "include_colab_link": true
    },
    "kernelspec": {
      "name": "python3",
      "display_name": "Python 3"
    },
    "language_info": {
      "name": "python"
    }
  },
  "cells": [
    {
      "cell_type": "markdown",
      "metadata": {
        "id": "view-in-github",
        "colab_type": "text"
      },
      "source": [
        "<a href=\"https://colab.research.google.com/github/om-369/NLP-GEN-AI/blob/main/regex_.ipynb\" target=\"_parent\"><img src=\"https://colab.research.google.com/assets/colab-badge.svg\" alt=\"Open In Colab\"/></a>"
      ]
    },
    {
      "cell_type": "code",
      "execution_count": null,
      "metadata": {
        "id": "XCCbUcejMZOL"
      },
      "outputs": [],
      "source": [
        "# re.findall() ---> list\n",
        "# re.compile() ---> obj\n",
        "# re.match() ---> obj\n",
        "# re.search() ---> obj\n",
        "# re.sub() ---> str"
      ]
    },
    {
      "cell_type": "code",
      "source": [
        "import re"
      ],
      "metadata": {
        "id": "voCV8vnDM1Hl"
      },
      "execution_count": null,
      "outputs": []
    },
    {
      "cell_type": "code",
      "source": [
        "text = \"dfg sd xfv, sd\"\n",
        "re.findall(r'sd',text)"
      ],
      "metadata": {
        "colab": {
          "base_uri": "https://localhost:8080/"
        },
        "id": "tziKSY9-M6pp",
        "outputId": "3f594932-f152-46f4-cb95-68ddaeaf48df"
      },
      "execution_count": null,
      "outputs": [
        {
          "output_type": "execute_result",
          "data": {
            "text/plain": [
              "['sd', 'sd']"
            ]
          },
          "metadata": {},
          "execution_count": 10
        }
      ]
    },
    {
      "cell_type": "code",
      "source": [
        "text = \"dfg sd xfv, sd\"\n",
        "pattern = re.compile(r'sd')"
      ],
      "metadata": {
        "id": "1sf5Y9ltNldV"
      },
      "execution_count": null,
      "outputs": []
    },
    {
      "cell_type": "code",
      "source": [
        "re.search(r'sd',text)"
      ],
      "metadata": {
        "colab": {
          "base_uri": "https://localhost:8080/"
        },
        "id": "ae42fJkeQMu5",
        "outputId": "8b7e15d2-418b-47d6-cf85-72917c1d3b35"
      },
      "execution_count": null,
      "outputs": [
        {
          "output_type": "execute_result",
          "data": {
            "text/plain": [
              "<re.Match object; span=(4, 6), match='sd'>"
            ]
          },
          "metadata": {},
          "execution_count": 13
        }
      ]
    },
    {
      "cell_type": "code",
      "source": [
        "pattern.sub(\"ds\",text)"
      ],
      "metadata": {
        "colab": {
          "base_uri": "https://localhost:8080/",
          "height": 35
        },
        "id": "vsjLYKtVQis4",
        "outputId": "34977ddb-40ac-4952-c2b6-33d0aee8d8bc"
      },
      "execution_count": null,
      "outputs": [
        {
          "output_type": "execute_result",
          "data": {
            "text/plain": [
              "'dfg ds xfv, ds'"
            ],
            "application/vnd.google.colaboratory.intrinsic+json": {
              "type": "string"
            }
          },
          "metadata": {},
          "execution_count": 15
        }
      ]
    },
    {
      "cell_type": "code",
      "source": [
        "pip install contractions"
      ],
      "metadata": {
        "colab": {
          "base_uri": "https://localhost:8080/"
        },
        "id": "ELIAIKkqRKZQ",
        "outputId": "bed86dbe-67bf-4569-baef-f3968d92c791"
      },
      "execution_count": null,
      "outputs": [
        {
          "output_type": "stream",
          "name": "stdout",
          "text": [
            "Collecting contractions\n",
            "  Downloading contractions-0.1.73-py2.py3-none-any.whl (8.7 kB)\n",
            "Collecting textsearch>=0.0.21 (from contractions)\n",
            "  Downloading textsearch-0.0.24-py2.py3-none-any.whl (7.6 kB)\n",
            "Collecting anyascii (from textsearch>=0.0.21->contractions)\n",
            "  Downloading anyascii-0.3.2-py3-none-any.whl (289 kB)\n",
            "\u001b[2K     \u001b[90m━━━━━━━━━━━━━━━━━━━━━━━━━━━━━━━━━━━━━━━━\u001b[0m \u001b[32m289.9/289.9 kB\u001b[0m \u001b[31m2.4 MB/s\u001b[0m eta \u001b[36m0:00:00\u001b[0m\n",
            "\u001b[?25hCollecting pyahocorasick (from textsearch>=0.0.21->contractions)\n",
            "  Downloading pyahocorasick-2.1.0-cp310-cp310-manylinux_2_5_x86_64.manylinux1_x86_64.manylinux_2_12_x86_64.manylinux2010_x86_64.whl (110 kB)\n",
            "\u001b[2K     \u001b[90m━━━━━━━━━━━━━━━━━━━━━━━━━━━━━━━━━━━━━━━━\u001b[0m \u001b[32m110.7/110.7 kB\u001b[0m \u001b[31m14.0 MB/s\u001b[0m eta \u001b[36m0:00:00\u001b[0m\n",
            "\u001b[?25hInstalling collected packages: pyahocorasick, anyascii, textsearch, contractions\n",
            "Successfully installed anyascii-0.3.2 contractions-0.1.73 pyahocorasick-2.1.0 textsearch-0.0.24\n"
          ]
        }
      ]
    },
    {
      "cell_type": "code",
      "source": [
        "import contractions"
      ],
      "metadata": {
        "id": "yUIduo_GR2wo"
      },
      "execution_count": null,
      "outputs": []
    },
    {
      "cell_type": "code",
      "source": [
        "text = \"I'm good. how're you? I can't do it\"\n",
        "contractions.fix(text)"
      ],
      "metadata": {
        "colab": {
          "base_uri": "https://localhost:8080/",
          "height": 35
        },
        "id": "YnUR8QoLSX0X",
        "outputId": "69659e12-e456-4945-937f-3fdc4f5242b8"
      },
      "execution_count": null,
      "outputs": [
        {
          "output_type": "execute_result",
          "data": {
            "text/plain": [
              "'I am good. how are you? I cannot do it'"
            ],
            "application/vnd.google.colaboratory.intrinsic+json": {
              "type": "string"
            }
          },
          "metadata": {},
          "execution_count": 20
        }
      ]
    },
    {
      "cell_type": "code",
      "source": [
        "word_list = []\n",
        "for word in text.split():\n",
        "  word_list.append(contractions.fix(word))"
      ],
      "metadata": {
        "id": "TAdBGogbSyWo"
      },
      "execution_count": null,
      "outputs": []
    },
    {
      "cell_type": "code",
      "source": [
        "\" \".join(word_list)"
      ],
      "metadata": {
        "colab": {
          "base_uri": "https://localhost:8080/",
          "height": 35
        },
        "id": "p4SVCOTjUIXh",
        "outputId": "6d84c71f-edcb-4152-fc3f-a40cdd9cc254"
      },
      "execution_count": null,
      "outputs": [
        {
          "output_type": "execute_result",
          "data": {
            "text/plain": [
              "'I am good. how are you? I cannot do it'"
            ],
            "application/vnd.google.colaboratory.intrinsic+json": {
              "type": "string"
            }
          },
          "metadata": {},
          "execution_count": 24
        }
      ]
    },
    {
      "cell_type": "code",
      "source": [
        " text =\"I ain't doing that\"\n",
        " word_list = []\n",
        "for word in text.split():\n",
        "  word_list.append(contractions.fix(word))\n",
        "\" \".join(word_list)"
      ],
      "metadata": {
        "colab": {
          "base_uri": "https://localhost:8080/",
          "height": 35
        },
        "id": "RPASCh7dULdG",
        "outputId": "015e20eb-f278-46fc-bbc4-d902a8caab89"
      },
      "execution_count": null,
      "outputs": [
        {
          "output_type": "execute_result",
          "data": {
            "text/plain": [
              "'I are not doing that'"
            ],
            "application/vnd.google.colaboratory.intrinsic+json": {
              "type": "string"
            }
          },
          "metadata": {},
          "execution_count": 26
        }
      ]
    },
    {
      "cell_type": "code",
      "source": [
        "text1 =\"I ain't doing that\"\n",
        "\n",
        "\n",
        "def contraction_removal(text1):\n",
        "  word_list = []\n",
        "  for word in text1.split():\n",
        "    word_list.append(contractions.fix(word))\n",
        "\n",
        "  return \" \".join(word_list)\n",
        "\n",
        "contraction_removal(text1)\n"
      ],
      "metadata": {
        "colab": {
          "base_uri": "https://localhost:8080/",
          "height": 35
        },
        "id": "PDjK6GKcVBBH",
        "outputId": "fe49f624-445f-4c5b-e846-8e39f9903861"
      },
      "execution_count": null,
      "outputs": [
        {
          "output_type": "execute_result",
          "data": {
            "text/plain": [
              "'I are not doing that'"
            ],
            "application/vnd.google.colaboratory.intrinsic+json": {
              "type": "string"
            }
          },
          "metadata": {},
          "execution_count": 29
        }
      ]
    },
    {
      "cell_type": "code",
      "source": [
        "# # spelling correction"
      ],
      "metadata": {
        "id": "nhMtpXm5WT1c"
      },
      "execution_count": null,
      "outputs": []
    },
    {
      "cell_type": "code",
      "source": [
        "edit distance ---> how many edits required to transform one string to another\n",
        "---> insertion\n",
        "---> substitution\n",
        "---> deletion"
      ],
      "metadata": {
        "id": "bMxBEz1ZW7-G"
      },
      "execution_count": null,
      "outputs": []
    },
    {
      "cell_type": "code",
      "source": [
        "truck ---> struck---> inserted 's'\n",
        "truck ---> track ---> substitute 'u' with 'a'\n",
        "truck ---> ruck ---> delete 't'\n"
      ],
      "metadata": {
        "id": "OsFG3fn0hZAA"
      },
      "execution_count": null,
      "outputs": []
    },
    {
      "cell_type": "code",
      "source": [
        "dictionary = {correct_spellings}\n"
      ],
      "metadata": {
        "id": "ANS_W8RXh1jP"
      },
      "execution_count": null,
      "outputs": []
    },
    {
      "cell_type": "code",
      "source": [
        "pip install pyspellchecker"
      ],
      "metadata": {
        "colab": {
          "base_uri": "https://localhost:8080/"
        },
        "id": "3mTOogc7h-yR",
        "outputId": "c5f5e690-da9c-49ed-d867-850ea2dec4cd"
      },
      "execution_count": null,
      "outputs": [
        {
          "output_type": "stream",
          "name": "stdout",
          "text": [
            "Collecting pyspellchecker\n",
            "  Downloading pyspellchecker-0.8.1-py3-none-any.whl (6.8 MB)\n",
            "\u001b[2K     \u001b[90m━━━━━━━━━━━━━━━━━━━━━━━━━━━━━━━━━━━━━━━━\u001b[0m \u001b[32m6.8/6.8 MB\u001b[0m \u001b[31m20.4 MB/s\u001b[0m eta \u001b[36m0:00:00\u001b[0m\n",
            "\u001b[?25hInstalling collected packages: pyspellchecker\n",
            "Successfully installed pyspellchecker-0.8.1\n"
          ]
        }
      ]
    },
    {
      "cell_type": "code",
      "source": [
        "from spellchecker import SpellChecker"
      ],
      "metadata": {
        "id": "XdBxjoCwhw4B"
      },
      "execution_count": null,
      "outputs": []
    },
    {
      "cell_type": "code",
      "source": [
        "spell = SpellChecker()"
      ],
      "metadata": {
        "id": "G-6rtgnMiYfQ"
      },
      "execution_count": null,
      "outputs": []
    },
    {
      "cell_type": "code",
      "source": [
        "spell.correction(\"speling\")"
      ],
      "metadata": {
        "colab": {
          "base_uri": "https://localhost:8080/",
          "height": 35
        },
        "id": "Lup34Tp5idzf",
        "outputId": "d7371f43-9318-47aa-aeae-6aa7d5728632"
      },
      "execution_count": null,
      "outputs": [
        {
          "output_type": "execute_result",
          "data": {
            "text/plain": [
              "'spelling'"
            ],
            "application/vnd.google.colaboratory.intrinsic+json": {
              "type": "string"
            }
          },
          "metadata": {},
          "execution_count": 34
        }
      ]
    },
    {
      "cell_type": "code",
      "source": [
        "spell.correction('chacking')"
      ],
      "metadata": {
        "colab": {
          "base_uri": "https://localhost:8080/",
          "height": 35
        },
        "id": "BCO6Bvgiii-k",
        "outputId": "3829312b-81c0-4f0b-a301-be3c39d51649"
      },
      "execution_count": null,
      "outputs": [
        {
          "output_type": "execute_result",
          "data": {
            "text/plain": [
              "'checking'"
            ],
            "application/vnd.google.colaboratory.intrinsic+json": {
              "type": "string"
            }
          },
          "metadata": {},
          "execution_count": 35
        }
      ]
    },
    {
      "cell_type": "code",
      "source": [
        "spell.candidates('speling')"
      ],
      "metadata": {
        "colab": {
          "base_uri": "https://localhost:8080/"
        },
        "id": "8Uifh8CeipCu",
        "outputId": "2b34d1ad-9ade-4b33-9ff4-4ddd842db3d8"
      },
      "execution_count": null,
      "outputs": [
        {
          "output_type": "execute_result",
          "data": {
            "text/plain": [
              "{'seeling', 'spelling', 'spewing', 'spieling'}"
            ]
          },
          "metadata": {},
          "execution_count": 36
        }
      ]
    },
    {
      "cell_type": "code",
      "source": [
        "text = 'corect my speling'\n",
        "corrected_words_list = []\n",
        "for word in text.split():\n",
        "  corrected_words_list.append(spell.correction(word))\n",
        "\" \".join(corrected_words_list)"
      ],
      "metadata": {
        "colab": {
          "base_uri": "https://localhost:8080/",
          "height": 35
        },
        "id": "cPb9KbVui3yv",
        "outputId": "0aa35a74-87eb-4701-c7ad-93489fe28ff0"
      },
      "execution_count": null,
      "outputs": [
        {
          "output_type": "execute_result",
          "data": {
            "text/plain": [
              "'correct my spelling'"
            ],
            "application/vnd.google.colaboratory.intrinsic+json": {
              "type": "string"
            }
          },
          "metadata": {},
          "execution_count": 40
        }
      ]
    },
    {
      "cell_type": "code",
      "source": [
        "text = 'corect my speling'\n",
        "corrected_words_list = []\n",
        "for word in text.split():\n",
        "  corrected_words_list.append(SpellChecker().correction(word))\n",
        "\" \".join(corrected_words_list)"
      ],
      "metadata": {
        "colab": {
          "base_uri": "https://localhost:8080/",
          "height": 35
        },
        "id": "xYA3CxPtjCjf",
        "outputId": "ecf91bb3-01bb-4e75-aa50-eec0fb68624d"
      },
      "execution_count": null,
      "outputs": [
        {
          "output_type": "execute_result",
          "data": {
            "text/plain": [
              "'correct my spelling'"
            ],
            "application/vnd.google.colaboratory.intrinsic+json": {
              "type": "string"
            }
          },
          "metadata": {},
          "execution_count": 45
        }
      ]
    },
    {
      "cell_type": "code",
      "source": [
        "from textblob import TextBlob\n",
        "\n",
        "text = 'corect my speling'\n",
        "obj = TextBlob(text)\n",
        "obj.correct()"
      ],
      "metadata": {
        "colab": {
          "base_uri": "https://localhost:8080/"
        },
        "id": "ZAN5lKS6kFu_",
        "outputId": "378f7060-9c19-4def-c950-0787c30886e6"
      },
      "execution_count": null,
      "outputs": [
        {
          "output_type": "execute_result",
          "data": {
            "text/plain": [
              "TextBlob(\"correct my spelling\")"
            ]
          },
          "metadata": {},
          "execution_count": 47
        }
      ]
    },
    {
      "cell_type": "code",
      "source": [
        "text = 'corect my speling'\n",
        "\n",
        "TextBlob(text).correct()"
      ],
      "metadata": {
        "colab": {
          "base_uri": "https://localhost:8080/"
        },
        "id": "r6AK5kVElRYD",
        "outputId": "42ae7488-99df-416e-d519-f7442be9144f"
      },
      "execution_count": null,
      "outputs": [
        {
          "output_type": "execute_result",
          "data": {
            "text/plain": [
              "TextBlob(\"correct my spelling\")"
            ]
          },
          "metadata": {},
          "execution_count": 49
        }
      ]
    },
    {
      "cell_type": "code",
      "source": [
        "#  emoji handling"
      ],
      "metadata": {
        "id": "OKWbJKPnlh_n"
      },
      "execution_count": null,
      "outputs": []
    },
    {
      "cell_type": "code",
      "source": [
        "ord('😂')"
      ],
      "metadata": {
        "colab": {
          "base_uri": "https://localhost:8080/"
        },
        "id": "_Gy_gELClvwY",
        "outputId": "0f331957-5af3-42c0-8cc1-cef63383056d"
      },
      "execution_count": null,
      "outputs": [
        {
          "output_type": "execute_result",
          "data": {
            "text/plain": [
              "128514"
            ]
          },
          "metadata": {},
          "execution_count": 51
        }
      ]
    },
    {
      "cell_type": "code",
      "source": [
        "ord('😊')"
      ],
      "metadata": {
        "colab": {
          "base_uri": "https://localhost:8080/"
        },
        "id": "NEOuaGS8myJ2",
        "outputId": "10789c75-2f12-45ea-cf57-0c506cf290e1"
      },
      "execution_count": null,
      "outputs": [
        {
          "output_type": "execute_result",
          "data": {
            "text/plain": [
              "128522"
            ]
          },
          "metadata": {},
          "execution_count": 52
        }
      ]
    },
    {
      "cell_type": "code",
      "source": [
        "ord('A')    # ascii value from character"
      ],
      "metadata": {
        "colab": {
          "base_uri": "https://localhost:8080/"
        },
        "id": "GPduP-MIm4bp",
        "outputId": "61ba372d-552f-4c28-f17a-8c06cc985bd2"
      },
      "execution_count": null,
      "outputs": [
        {
          "output_type": "execute_result",
          "data": {
            "text/plain": [
              "65"
            ]
          },
          "metadata": {},
          "execution_count": 53
        }
      ]
    },
    {
      "cell_type": "code",
      "source": [
        "ord(\"\\U00011F6FF\")"
      ],
      "metadata": {
        "colab": {
          "base_uri": "https://localhost:8080/",
          "height": 141
        },
        "id": "Q6sjq-PFnEEp",
        "outputId": "9d17d683-421c-4f14-c068-e56279cac118"
      },
      "execution_count": null,
      "outputs": [
        {
          "output_type": "error",
          "ename": "TypeError",
          "evalue": "ord() expected a character, but string of length 2 found",
          "traceback": [
            "\u001b[0;31m---------------------------------------------------------------------------\u001b[0m",
            "\u001b[0;31mTypeError\u001b[0m                                 Traceback (most recent call last)",
            "\u001b[0;32m<ipython-input-57-399d7a9bd2d2>\u001b[0m in \u001b[0;36m<cell line: 1>\u001b[0;34m()\u001b[0m\n\u001b[0;32m----> 1\u001b[0;31m \u001b[0mord\u001b[0m\u001b[0;34m(\u001b[0m\u001b[0;34m\"\\U00011F6FF\"\u001b[0m\u001b[0;34m)\u001b[0m\u001b[0;34m\u001b[0m\u001b[0;34m\u001b[0m\u001b[0m\n\u001b[0m",
            "\u001b[0;31mTypeError\u001b[0m: ord() expected a character, but string of length 2 found"
          ]
        }
      ]
    },
    {
      "cell_type": "code",
      "source": [
        "chr(128640)"
      ],
      "metadata": {
        "colab": {
          "base_uri": "https://localhost:8080/",
          "height": 35
        },
        "id": "XZYtiX9SnRuJ",
        "outputId": "e1ca22c2-0088-4fef-d9fb-013e2d67cf82"
      },
      "execution_count": null,
      "outputs": [
        {
          "output_type": "execute_result",
          "data": {
            "text/plain": [
              "'🚀'"
            ],
            "application/vnd.google.colaboratory.intrinsic+json": {
              "type": "string"
            }
          },
          "metadata": {},
          "execution_count": 58
        }
      ]
    },
    {
      "cell_type": "code",
      "source": [
        "chr(128645)"
      ],
      "metadata": {
        "colab": {
          "base_uri": "https://localhost:8080/",
          "height": 35
        },
        "id": "OpvN2XUan7ns",
        "outputId": "e980798e-e996-4c7d-9d2d-401cb2e8d96c"
      },
      "execution_count": null,
      "outputs": [
        {
          "output_type": "execute_result",
          "data": {
            "text/plain": [
              "'🚅'"
            ],
            "application/vnd.google.colaboratory.intrinsic+json": {
              "type": "string"
            }
          },
          "metadata": {},
          "execution_count": 60
        }
      ]
    },
    {
      "cell_type": "code",
      "source": [
        "pip install emoji"
      ],
      "metadata": {
        "colab": {
          "base_uri": "https://localhost:8080/"
        },
        "id": "7IiKwf2jpc1x",
        "outputId": "46927f72-a725-4665-838d-8adde9cc94ba"
      },
      "execution_count": null,
      "outputs": [
        {
          "output_type": "stream",
          "name": "stdout",
          "text": [
            "Collecting emoji\n",
            "  Downloading emoji-2.12.1-py3-none-any.whl (431 kB)\n",
            "\u001b[2K     \u001b[90m━━━━━━━━━━━━━━━━━━━━━━━━━━━━━━━━━━━━━━━━\u001b[0m \u001b[32m431.4/431.4 kB\u001b[0m \u001b[31m2.7 MB/s\u001b[0m eta \u001b[36m0:00:00\u001b[0m\n",
            "\u001b[?25hRequirement already satisfied: typing-extensions>=4.7.0 in /usr/local/lib/python3.10/dist-packages (from emoji) (4.12.2)\n",
            "Installing collected packages: emoji\n",
            "Successfully installed emoji-2.12.1\n"
          ]
        }
      ]
    },
    {
      "cell_type": "code",
      "source": [
        "import emoji\n"
      ],
      "metadata": {
        "id": "IbjRxu8joAsz"
      },
      "execution_count": null,
      "outputs": []
    },
    {
      "cell_type": "code",
      "source": [
        "1. emoji.emojize()   ----> convert text to emoji\n",
        "2.emoji.demojize()   ----> from emoji to text"
      ],
      "metadata": {
        "id": "-fdbzz0do2Y6"
      },
      "execution_count": null,
      "outputs": []
    },
    {
      "cell_type": "code",
      "source": [
        "emoji.emojize('python is :red_heart:')"
      ],
      "metadata": {
        "colab": {
          "base_uri": "https://localhost:8080/",
          "height": 35
        },
        "id": "ymOrYWbQp9Tp",
        "outputId": "5b6e6344-b945-4a38-a074-8ec7463e9971"
      },
      "execution_count": null,
      "outputs": [
        {
          "output_type": "execute_result",
          "data": {
            "text/plain": [
              "'python is❤️'"
            ],
            "application/vnd.google.colaboratory.intrinsic+json": {
              "type": "string"
            }
          },
          "metadata": {},
          "execution_count": 70
        }
      ]
    },
    {
      "cell_type": "code",
      "source": [
        "emoji.emojize('python is :snake:')"
      ],
      "metadata": {
        "colab": {
          "base_uri": "https://localhost:8080/",
          "height": 35
        },
        "id": "4k6yBldAqGqX",
        "outputId": "4d377b1b-6f5b-4b40-a76d-5ffa560f68ab"
      },
      "execution_count": null,
      "outputs": [
        {
          "output_type": "execute_result",
          "data": {
            "text/plain": [
              "'python is 🐍'"
            ],
            "application/vnd.google.colaboratory.intrinsic+json": {
              "type": "string"
            }
          },
          "metadata": {},
          "execution_count": 71
        }
      ]
    },
    {
      "cell_type": "code",
      "source": [
        "emoji.demojize('pyhton is 🐍')"
      ],
      "metadata": {
        "colab": {
          "base_uri": "https://localhost:8080/",
          "height": 35
        },
        "id": "pdxVEOdgqWvt",
        "outputId": "ed6ef3bf-250b-422a-e2f5-f6b90a46a31b"
      },
      "execution_count": null,
      "outputs": [
        {
          "output_type": "execute_result",
          "data": {
            "text/plain": [
              "'pyhton is :snake:'"
            ],
            "application/vnd.google.colaboratory.intrinsic+json": {
              "type": "string"
            }
          },
          "metadata": {},
          "execution_count": 72
        }
      ]
    },
    {
      "cell_type": "code",
      "source": [
        "# removal urls :\n"
      ],
      "metadata": {
        "id": "5-RDF2NBqijN"
      },
      "execution_count": null,
      "outputs": []
    },
    {
      "cell_type": "code",
      "source": [
        "url1 = \"use this https://colab.research.google.com/drive/1hqnsOGEP7rOYLMtggT7XQw5U5Y_J5X5V#scrollTo=80yENM3yrGjd\""
      ],
      "metadata": {
        "id": "80yENM3yrGjd"
      },
      "execution_count": null,
      "outputs": []
    },
    {
      "cell_type": "code",
      "source": [
        "url2 = \"this is https://www.analyticsvidhya.com/genaipinnacle?utm_source=google&utm_medium=brand_av_pm&utm_content=brand_phrase&utm_campaign=pinnacle_new_search_brand&utm_term=analytics%20vidhya&gad_source=1&gclid=CjwKCAjwp4m0BhBAEiwAsdc4aO7pR6XQ7Q0YmDbiWVKeqKjeVOZiCmlSZ1TF54IFJEtkTPePjHrUOxoCUvUQAvD_BwE\""
      ],
      "metadata": {
        "id": "P5wWSv_erQmd"
      },
      "execution_count": null,
      "outputs": []
    },
    {
      "cell_type": "code",
      "source": [
        "pattern = r'https?:[//]\\S*'"
      ],
      "metadata": {
        "id": "E8v_siYYrXWN"
      },
      "execution_count": null,
      "outputs": []
    },
    {
      "cell_type": "code",
      "source": [
        "re.findall(pattern,url1)"
      ],
      "metadata": {
        "colab": {
          "base_uri": "https://localhost:8080/"
        },
        "id": "23gN_vhcsV8X",
        "outputId": "ffb65771-c54c-4feb-fb15-266b3de4e481"
      },
      "execution_count": null,
      "outputs": [
        {
          "output_type": "execute_result",
          "data": {
            "text/plain": [
              "['https://colab.research.google.com/drive/1hqnsOGEP7rOYLMtggT7XQw5U5Y_J5X5V#scrollTo=80yENM3yrGjd']"
            ]
          },
          "metadata": {},
          "execution_count": 86
        }
      ]
    },
    {
      "cell_type": "code",
      "source": [
        "re.findall(pattern,url2)"
      ],
      "metadata": {
        "colab": {
          "base_uri": "https://localhost:8080/"
        },
        "id": "wtcMYYAhsorM",
        "outputId": "456384bc-83a0-4831-b7f7-a73760bf05b6"
      },
      "execution_count": null,
      "outputs": [
        {
          "output_type": "execute_result",
          "data": {
            "text/plain": [
              "['https://www.analyticsvidhya.com/genaipinnacle?utm_source=google&utm_medium=brand_av_pm&utm_content=brand_phrase&utm_campaign=pinnacle_new_search_brand&utm_term=analytics%20vidhya&gad_source=1&gclid=CjwKCAjwp4m0BhBAEiwAsdc4aO7pR6XQ7Q0YmDbiWVKeqKjeVOZiCmlSZ1TF54IFJEtkTPePjHrUOxoCUvUQAvD_BwE']"
            ]
          },
          "metadata": {},
          "execution_count": 87
        }
      ]
    },
    {
      "cell_type": "code",
      "source": [
        "url_pattern = re.compile(pattern)"
      ],
      "metadata": {
        "id": "4wTm9tqvtalN"
      },
      "execution_count": null,
      "outputs": []
    },
    {
      "cell_type": "code",
      "source": [
        "url_pattern.sub(r'',url1)"
      ],
      "metadata": {
        "colab": {
          "base_uri": "https://localhost:8080/",
          "height": 35
        },
        "id": "M3PUV632t6lW",
        "outputId": "fb31f3c2-a702-479a-cdf3-6cb98de83100"
      },
      "execution_count": null,
      "outputs": [
        {
          "output_type": "execute_result",
          "data": {
            "text/plain": [
              "'use this '"
            ],
            "application/vnd.google.colaboratory.intrinsic+json": {
              "type": "string"
            }
          },
          "metadata": {},
          "execution_count": 89
        }
      ]
    },
    {
      "cell_type": "code",
      "source": [
        "url_pattern.sub(r\"\",url2)"
      ],
      "metadata": {
        "colab": {
          "base_uri": "https://localhost:8080/",
          "height": 35
        },
        "id": "qFMjfWaruEWt",
        "outputId": "e1e8d3da-df7d-484a-cadc-79df9703cdf2"
      },
      "execution_count": null,
      "outputs": [
        {
          "output_type": "execute_result",
          "data": {
            "text/plain": [
              "'this is '"
            ],
            "application/vnd.google.colaboratory.intrinsic+json": {
              "type": "string"
            }
          },
          "metadata": {},
          "execution_count": 90
        }
      ]
    },
    {
      "cell_type": "code",
      "source": [
        "html_text = '''\n",
        "<!DOCTYPE html>\n",
        "<html>\n",
        "<body>\n",
        "\n",
        "<h1>The template Element</h1>\n",
        "\n",
        "<p>Click the button below to display the hidden content from the template element.</p>\n",
        "\n",
        "<button onclick=\"showContent()\">Show hidden content</button>\n",
        "\n",
        "<template>\n",
        "  <h2>Flower</h2>\n",
        "  <img src=\"img_white_flower.jpg\" width=\"214\" height=\"204\">\n",
        "</template>\n",
        "\n",
        "<script>\n",
        "function showContent() {\n",
        "  let temp = document.getElementsByTagName(\"template\")[0];\n",
        "  let clon = temp.content.cloneNode(true);\n",
        "  document.body.appendChild(clon);\n",
        "}\n",
        "</script>\n",
        "\n",
        "</body>\n",
        "</html>\n",
        "'''"
      ],
      "metadata": {
        "id": "rSmsnTIMuMDc"
      },
      "execution_count": null,
      "outputs": []
    },
    {
      "cell_type": "code",
      "source": [
        "pattern = r'<[^>]*>'"
      ],
      "metadata": {
        "id": "GyAa7e-9vFer"
      },
      "execution_count": null,
      "outputs": []
    },
    {
      "cell_type": "code",
      "source": [
        "re.findall(pattern,html_text)"
      ],
      "metadata": {
        "colab": {
          "base_uri": "https://localhost:8080/"
        },
        "id": "Uj4_cXGivQN1",
        "outputId": "e218a9b4-5c25-4ac4-d088-746fc783fe54"
      },
      "execution_count": null,
      "outputs": [
        {
          "output_type": "execute_result",
          "data": {
            "text/plain": [
              "['<!DOCTYPE html>',\n",
              " '<html>',\n",
              " '<body>',\n",
              " '<h1>',\n",
              " '</h1>',\n",
              " '<p>',\n",
              " '</p>',\n",
              " '<button onclick=\"showContent()\">',\n",
              " '</button>',\n",
              " '<template>',\n",
              " '<h2>',\n",
              " '</h2>',\n",
              " '<img src=\"img_white_flower.jpg\" width=\"214\" height=\"204\">',\n",
              " '</template>',\n",
              " '<script>',\n",
              " '</script>',\n",
              " '</body>',\n",
              " '</html>']"
            ]
          },
          "metadata": {},
          "execution_count": 93
        }
      ]
    },
    {
      "cell_type": "code",
      "source": [
        "html_pattern = re.compile(pattern)"
      ],
      "metadata": {
        "id": "BAJ3_Bdtvep8"
      },
      "execution_count": null,
      "outputs": []
    },
    {
      "cell_type": "code",
      "source": [
        "html_pattern.sub(r'',html_text)"
      ],
      "metadata": {
        "colab": {
          "base_uri": "https://localhost:8080/",
          "height": 70
        },
        "id": "WHSXTib4v5L_",
        "outputId": "3268f851-c7d8-41de-e8a2-fe93140c59e3"
      },
      "execution_count": null,
      "outputs": [
        {
          "output_type": "execute_result",
          "data": {
            "text/plain": [
              "'\\n\\n\\n\\n\\nThe template Element\\n\\nClick the button below to display the hidden content from the template element.\\n\\nShow hidden content\\n\\n\\n  Flower\\n  \\n\\n\\n\\nfunction showContent() {\\n  let temp = document.getElementsByTagName(\"template\")[0];\\n  let clon = temp.content.cloneNode(true);\\n  document.body.appendChild(clon);\\n}\\n\\n\\n\\n\\n'"
            ],
            "application/vnd.google.colaboratory.intrinsic+json": {
              "type": "string"
            }
          },
          "metadata": {},
          "execution_count": 95
        }
      ]
    },
    {
      "cell_type": "code",
      "source": [
        "'''\n",
        "\n",
        "\n",
        "\n",
        "\n",
        "\n",
        "The template Element\n",
        "\n",
        "Click the button below to display the hidden content from the template element.\n",
        "\n",
        "Show hidden content\n",
        "\n",
        "\n",
        "  Flower\n",
        "\n",
        "\n",
        "\n",
        "\n",
        "function showContent() {\n",
        "  let temp = document.getElementsByTagName(\"template\")[0];\n",
        "  let clon = temp.content.cloneNode(true);\n",
        "  document.body.appendChild(clon);\n",
        "}\n",
        "\n",
        "\n",
        "\n",
        "\n",
        "\n",
        "'''"
      ],
      "metadata": {
        "colab": {
          "base_uri": "https://localhost:8080/",
          "height": 70
        },
        "id": "qAs_UquRwBXr",
        "outputId": "2b90570a-009b-4d59-94cb-dbd9e097c395"
      },
      "execution_count": null,
      "outputs": [
        {
          "output_type": "execute_result",
          "data": {
            "text/plain": [
              "'\\n\\n\\n\\n\\n\\nThe template Element\\n\\nClick the button below to display the hidden content from the template element.\\n\\nShow hidden content\\n\\n\\n  Flower\\n  \\n\\n\\n\\nfunction showContent() {\\n  let temp = document.getElementsByTagName(\"template\")[0];\\n  let clon = temp.content.cloneNode(true);\\n  document.body.appendChild(clon);\\n}\\n\\n\\n\\n\\n\\n'"
            ],
            "application/vnd.google.colaboratory.intrinsic+json": {
              "type": "string"
            }
          },
          "metadata": {},
          "execution_count": 96
        }
      ]
    },
    {
      "cell_type": "code",
      "source": [
        "from bs4 import BeautifulSoup"
      ],
      "metadata": {
        "id": "mg450IElwazJ"
      },
      "execution_count": null,
      "outputs": []
    },
    {
      "cell_type": "code",
      "source": [
        "BeautifulSoup(html_text,'lxml').text"
      ],
      "metadata": {
        "colab": {
          "base_uri": "https://localhost:8080/",
          "height": 35
        },
        "id": "PtbhUszFwk2b",
        "outputId": "be86becc-60f6-43a4-abaa-82f6073f9b26"
      },
      "execution_count": null,
      "outputs": [
        {
          "output_type": "execute_result",
          "data": {
            "text/plain": [
              "'\\n\\nThe template Element\\nClick the button below to display the hidden content from the template element.\\nShow hidden content\\n\\n\\n\\n\\n'"
            ],
            "application/vnd.google.colaboratory.intrinsic+json": {
              "type": "string"
            }
          },
          "metadata": {},
          "execution_count": 98
        }
      ]
    },
    {
      "cell_type": "code",
      "source": [
        "# abbrivations/ slang\n",
        "#  ASAP / EOD"
      ],
      "metadata": {
        "id": "zFROF--_wvps"
      },
      "execution_count": null,
      "outputs": []
    },
    {
      "cell_type": "code",
      "source": [
        "import ast"
      ],
      "metadata": {
        "id": "xzwKYd9lxgur"
      },
      "execution_count": null,
      "outputs": []
    },
    {
      "cell_type": "code",
      "source": [
        "with open(\"/content/abbreviations.txt\",'r') as f:\n",
        "\n",
        "  data = f.read()\n",
        "\n",
        "abb_dict = ast.literal_eval(data)"
      ],
      "metadata": {
        "colab": {
          "base_uri": "https://localhost:8080/",
          "height": 349
        },
        "id": "KIWO4-coxtl7",
        "outputId": "703bfb93-fb74-4721-e21a-bc0b99d7d696"
      },
      "execution_count": null,
      "outputs": [
        {
          "output_type": "error",
          "ename": "SyntaxError",
          "evalue": "invalid syntax (<unknown>, line 3)",
          "traceback": [
            "Traceback \u001b[0;36m(most recent call last)\u001b[0m:\n",
            "  File \u001b[1;32m\"/usr/local/lib/python3.10/dist-packages/IPython/core/interactiveshell.py\"\u001b[0m, line \u001b[1;32m3553\u001b[0m, in \u001b[1;35mrun_code\u001b[0m\n    exec(code_obj, self.user_global_ns, self.user_ns)\n",
            "  File \u001b[1;32m\"<ipython-input-117-b90c8bb650ad>\"\u001b[0m, line \u001b[1;32m5\u001b[0m, in \u001b[1;35m<cell line: 5>\u001b[0m\n    abb_dict = ast.literal_eval(data)\n",
            "  File \u001b[1;32m\"/usr/lib/python3.10/ast.py\"\u001b[0m, line \u001b[1;32m64\u001b[0m, in \u001b[1;35mliteral_eval\u001b[0m\n    node_or_string = parse(node_or_string.lstrip(\" \\t\"), mode='eval')\n",
            "\u001b[0;36m  File \u001b[0;32m\"/usr/lib/python3.10/ast.py\"\u001b[0;36m, line \u001b[0;32m50\u001b[0;36m, in \u001b[0;35mparse\u001b[0;36m\u001b[0m\n\u001b[0;31m    return compile(source, filename, mode, flags,\u001b[0m\n",
            "\u001b[0;36m  File \u001b[0;32m\"<unknown>\"\u001b[0;36m, line \u001b[0;32m3\u001b[0m\n\u001b[0;31m    AWL.\t absent without leave\u001b[0m\n\u001b[0m    ^\u001b[0m\n\u001b[0;31mSyntaxError\u001b[0m\u001b[0;31m:\u001b[0m invalid syntax\n"
          ]
        }
      ]
    },
    {
      "cell_type": "code",
      "source": [],
      "metadata": {
        "id": "GdKpY7I5yDjM"
      },
      "execution_count": null,
      "outputs": []
    }
  ]
}