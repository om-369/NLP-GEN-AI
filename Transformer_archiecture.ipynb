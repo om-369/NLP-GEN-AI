{
  "nbformat": 4,
  "nbformat_minor": 0,
  "metadata": {
    "colab": {
      "private_outputs": true,
      "provenance": [],
      "authorship_tag": "ABX9TyOMc4fWSLTSdIEEBL4JE5Sj"
    },
    "kernelspec": {
      "name": "python3",
      "display_name": "Python 3"
    },
    "language_info": {
      "name": "python"
    }
  },
  "cells": [
    {
      "cell_type": "code",
      "execution_count": null,
      "metadata": {
        "id": "85IaTzydM1bs"
      },
      "outputs": [],
      "source": [
        "# different Transformers architecture:"
      ]
    },
    {
      "cell_type": "code",
      "source": [
        "from IPython.display import Image, display"
      ],
      "metadata": {
        "id": "WPzh8HKkY2Ow"
      },
      "execution_count": null,
      "outputs": []
    },
    {
      "cell_type": "code",
      "source": [
        "display(Image(\"/content/transformers_model_tree.png\"))"
      ],
      "metadata": {
        "id": "u37SmCZZZIoP"
      },
      "execution_count": null,
      "outputs": []
    },
    {
      "cell_type": "code",
      "source": [
        "# encoder only"
      ],
      "metadata": {
        "id": "mzpXZ2kEZRb6"
      },
      "execution_count": null,
      "outputs": []
    },
    {
      "cell_type": "code",
      "source": [
        "#encoder- decoder"
      ],
      "metadata": {
        "id": "zeVysz-maDC8"
      },
      "execution_count": null,
      "outputs": []
    },
    {
      "cell_type": "code",
      "source": [
        "# Decoder only"
      ],
      "metadata": {
        "id": "DdoIDJ8KaGIk"
      },
      "execution_count": null,
      "outputs": []
    },
    {
      "cell_type": "code",
      "source": [
        "understanding input"
      ],
      "metadata": {
        "id": "nEJgJ53QbBIQ"
      },
      "execution_count": null,
      "outputs": []
    },
    {
      "cell_type": "code",
      "source": [
        "sentiment analysis, text classification, ner"
      ],
      "metadata": {
        "id": "Z5GyXWGCaJvW"
      },
      "execution_count": null,
      "outputs": []
    },
    {
      "cell_type": "code",
      "source": [
        "models: Bert, DistilBert, Roberta, Albert"
      ],
      "metadata": {
        "id": "-s9vosudai1g"
      },
      "execution_count": null,
      "outputs": []
    },
    {
      "cell_type": "code",
      "source": [
        "# fine tuning needed for down stream task"
      ],
      "metadata": {
        "id": "S7aRxF1zato4"
      },
      "execution_count": null,
      "outputs": []
    },
    {
      "cell_type": "code",
      "source": [
        "# Encoder Decoder"
      ],
      "metadata": {
        "id": "NJ3ePyT-a5wp"
      },
      "execution_count": null,
      "outputs": []
    },
    {
      "cell_type": "code",
      "source": [
        "understanding and generation"
      ],
      "metadata": {
        "id": "8AtkKIIGbM9X"
      },
      "execution_count": null,
      "outputs": []
    },
    {
      "cell_type": "code",
      "source": [
        "machine translation, text summarization, Image captioning, speech to text"
      ],
      "metadata": {
        "id": "NeKdqnUTbWiZ"
      },
      "execution_count": null,
      "outputs": []
    },
    {
      "cell_type": "code",
      "source": [
        "models; T5 , BART"
      ],
      "metadata": {
        "id": "DmprAgtQb0YF"
      },
      "execution_count": null,
      "outputs": []
    },
    {
      "cell_type": "code",
      "source": [
        "# decoder only"
      ],
      "metadata": {
        "id": "RyeHN2xMb9Eg"
      },
      "execution_count": null,
      "outputs": []
    },
    {
      "cell_type": "code",
      "source": [
        "generation"
      ],
      "metadata": {
        "id": "Xpu23HfQb_t0"
      },
      "execution_count": null,
      "outputs": []
    },
    {
      "cell_type": "code",
      "source": [
        "creating writing , good at generating text"
      ],
      "metadata": {
        "id": "Q413lEvvcBti"
      },
      "execution_count": null,
      "outputs": []
    },
    {
      "cell_type": "code",
      "source": [
        "model : GPT 1,2,3,4, J ,neo, llama1 , 2, PaLm"
      ],
      "metadata": {
        "id": "0jxik03TcOX-"
      },
      "execution_count": null,
      "outputs": []
    },
    {
      "cell_type": "code",
      "source": [
        "# Artifical shallow intelligence--- currently eg. chatgpt,"
      ],
      "metadata": {
        "id": "kFPhMh9Xc5uU"
      },
      "execution_count": null,
      "outputs": []
    },
    {
      "cell_type": "code",
      "source": [
        "AGI --- Artifical General Intelligence,"
      ],
      "metadata": {
        "id": "hxv3wQEPciE8"
      },
      "execution_count": null,
      "outputs": []
    },
    {
      "cell_type": "code",
      "source": [
        "# Artifical super intelligence"
      ],
      "metadata": {
        "id": "VjNC8K8zc_bV"
      },
      "execution_count": null,
      "outputs": []
    }
  ]
}