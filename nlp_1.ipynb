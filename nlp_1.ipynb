{
  "nbformat": 4,
  "nbformat_minor": 0,
  "metadata": {
    "colab": {
      "provenance": [],
      "authorship_tag": "ABX9TyNwaf5t686OivHnnl3rpqAl",
      "include_colab_link": true
    },
    "kernelspec": {
      "name": "python3",
      "display_name": "Python 3"
    },
    "language_info": {
      "name": "python"
    }
  },
  "cells": [
    {
      "cell_type": "markdown",
      "metadata": {
        "id": "view-in-github",
        "colab_type": "text"
      },
      "source": [
        "<a href=\"https://colab.research.google.com/github/om-369/NLP-GEN-AI/blob/main/nlp_1.ipynb\" target=\"_parent\"><img src=\"https://colab.research.google.com/assets/colab-badge.svg\" alt=\"Open In Colab\"/></a>"
      ]
    },
    {
      "cell_type": "code",
      "execution_count": null,
      "metadata": {
        "id": "G0960tMkgNXV"
      },
      "outputs": [],
      "source": [
        "# ambiquites\n",
        "\n",
        "# lexical ambiguity ---- presence of two or more possible meaning for single word\n",
        "\n",
        "\n",
        "# syntactical ambiguity ---- i saw a boy on beach with binaculars"
      ]
    },
    {
      "cell_type": "code",
      "source": [
        "from typing import Sized\n",
        "# quantisation :\n",
        "#  we try to reduce mermory size of model\n",
        "#  eg. 7 billion parameter ... datatype 32,( 4 bytes)\n",
        "#     28 billion bites (28gb) .... dat converted to 8 bite(now 7billion --- 7 gb)\n",
        "\n",
        "# llm will require lot of Size.\n",
        "\n",
        "# accuaracy will be reduced as well ....\n",
        "\n",
        "\n",
        "\n"
      ],
      "metadata": {
        "id": "NdfiJBNigtT4"
      },
      "execution_count": null,
      "outputs": []
    },
    {
      "cell_type": "code",
      "source": [
        "#  phases in NLP"
      ],
      "metadata": {
        "id": "C1-YraMSiojt"
      },
      "execution_count": null,
      "outputs": []
    },
    {
      "cell_type": "code",
      "source": [
        "# lexical Analysis:\n",
        "# ---- tokenisation , stemming, lemmitization\n"
      ],
      "metadata": {
        "id": "H8pgQaoair9G"
      },
      "execution_count": null,
      "outputs": []
    },
    {
      "cell_type": "code",
      "source": [
        "#  syntactic anlaysis:\n",
        "# pos----- part of speech\n",
        "\n"
      ],
      "metadata": {
        "id": "uFfvj2QVjAuO"
      },
      "execution_count": null,
      "outputs": []
    },
    {
      "cell_type": "code",
      "source": [
        "# sementic Analysis :\n",
        "# word embeddings\n",
        "# --- tfidf, word vectorization, word2vec, glove"
      ],
      "metadata": {
        "id": "NCTgvdGbjPbP"
      },
      "execution_count": null,
      "outputs": []
    },
    {
      "cell_type": "code",
      "source": [
        "#  discourse Analysis:\n",
        " bank"
      ],
      "metadata": {
        "id": "2vXVSIkUju59"
      },
      "execution_count": null,
      "outputs": []
    },
    {
      "cell_type": "code",
      "source": [
        "# pragmetic analysis"
      ],
      "metadata": {
        "id": "1xIpIfOSkE5F"
      },
      "execution_count": null,
      "outputs": []
    },
    {
      "cell_type": "code",
      "source": [
        "# basic Terminology :\n",
        "# vocabulary\n",
        "#  Document"
      ],
      "metadata": {
        "id": "PjJgA4jNkgCb"
      },
      "execution_count": null,
      "outputs": []
    },
    {
      "cell_type": "code",
      "source": [
        "# NLp ---\n",
        "#   -- nlu --- natural lang .understanding\n",
        "#   nlg --- natural language generation\n"
      ],
      "metadata": {
        "id": "JHKa-MsmnJaf"
      },
      "execution_count": null,
      "outputs": []
    },
    {
      "cell_type": "code",
      "source": [
        "# task in NLP\n",
        "\n",
        "# NER -- -- NAme entity recognition\n",
        "# use -- resume parsing, name school name\n",
        "\n",
        "# summarization\n",
        "# part of speech tagging---(pos) tagging\n",
        "# text classification --eg ---document classification\n",
        "# language Translation  ---\n",
        "# topic modelling --- topic in data\n",
        "# question answering ---- chatgpt\n",
        "# sentiment analysis --- review analysis --- eg --- positive or negative\n",
        "# lang generation ---  next word prediction in background\n",
        "\n"
      ],
      "metadata": {
        "id": "l-PztbirniC-"
      },
      "execution_count": null,
      "outputs": []
    },
    {
      "cell_type": "code",
      "source": [
        "#  low resources languages: ---- marathi , kannada -- have to work on data collection and creation"
      ],
      "metadata": {
        "id": "bYwFU93ioFnO"
      },
      "execution_count": null,
      "outputs": []
    },
    {
      "cell_type": "code",
      "source": [
        "# what is AGI\n",
        "# AGI :\n",
        "# Artificial General Intelligence"
      ],
      "metadata": {
        "id": "mVjfLIv3qBk9"
      },
      "execution_count": null,
      "outputs": []
    },
    {
      "cell_type": "code",
      "source": [],
      "metadata": {
        "id": "Bsycg3t1qzy2"
      },
      "execution_count": null,
      "outputs": []
    }
  ]
}