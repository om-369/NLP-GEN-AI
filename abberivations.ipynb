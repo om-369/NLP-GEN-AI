{
  "nbformat": 4,
  "nbformat_minor": 0,
  "metadata": {
    "colab": {
      "provenance": [],
      "authorship_tag": "ABX9TyOjgQZ1FI2PCbMdabcdMlVo",
      "include_colab_link": true
    },
    "kernelspec": {
      "name": "python3",
      "display_name": "Python 3"
    },
    "language_info": {
      "name": "python"
    }
  },
  "cells": [
    {
      "cell_type": "markdown",
      "metadata": {
        "id": "view-in-github",
        "colab_type": "text"
      },
      "source": [
        "<a href=\"https://colab.research.google.com/github/om-369/NLP-GEN-AI/blob/main/abberivations.ipynb\" target=\"_parent\"><img src=\"https://colab.research.google.com/assets/colab-badge.svg\" alt=\"Open In Colab\"/></a>"
      ]
    },
    {
      "cell_type": "code",
      "execution_count": null,
      "metadata": {
        "id": "qcvb-_Ab2JwW"
      },
      "outputs": [],
      "source": [
        "import ast"
      ]
    },
    {
      "cell_type": "code",
      "source": [
        "with open(\"/content/abbreviations.txt\",\"r\") as f:\n",
        "  data = f.read()\n",
        "print(data)"
      ],
      "metadata": {
        "colab": {
          "base_uri": "https://localhost:8080/"
        },
        "id": "7NfZUOZ-2UjG",
        "outputId": "39f68199-9fbc-46ba-e067-5c40a9173184"
      },
      "execution_count": null,
      "outputs": [
        {
          "output_type": "stream",
          "name": "stdout",
          "text": [
            "abbr.\t abbreviation\n",
            "awl.\t absent without leave\n",
            "Acad.\t Academy       \n",
            "alt.\t altitude      \n",
            "AM.\t amplitude modulation\n",
            "A.D.\t anno Domini\t\n",
            "A.M.\t ante meridiem (before noon)\n",
            "apt.\t apartment    \n",
            "Assn.\t Association  \n",
            "Aug.\t August            \n",
            "Ave.\t Avenue \t        \n",
            "B.A.\t Bachelor of Arts\n",
            "B.S.\t Bachelor of Science \n",
            "B.C.\t Before Christ \t     \n",
            "Blvd.\t Boulevard \t     \n",
            "Capt.\t Captain \t     \n",
            "C.\t Celsius, Centigrade\n",
            "ctr.\t center   \n",
            "cm.\t centimeter\n",
            "cent.\t century \n",
            "Col.\t Colonel\t  \n",
            "Cpl.\t Corporal \t    \n",
            "Corp.\t Corporation \t      \n",
            "Ct.\t Court\t\t\t  \n",
            "cu.\t cubic\t\t\t\t  \n",
            "dept.\t department \t\t\t    \n",
            "D.C.\t District of Columbia\n",
            "Dr.\t Doctor   \n",
            "div.\t division\n",
            "Dr.\t Drive\t\n",
            "E.\t east \t\n",
            "ed.\t edition \n",
            "etc.\t et cetera (and so on)\n",
            "F.\t Fahrenheit    \n",
            "Feb.\t February      \n",
            "ft.\t foot \t             \n",
            "Ft.\t Fort \t\t           \n",
            "FM\t frequency modulation\n",
            "gal.\t gallon     \n",
            "Gen.\t General  \n",
            "Gov.\t Governor \n",
            "GMT\t Greenwich Mean Time\n",
            "hwy.\t highway  \n",
            "hr.\t hour \t   \n",
            "i.e.\t id est (that is)\n",
            "in.\t inch  \n",
            "inc.\t incorporated\n",
            "Jan.\t January \n",
            "Jr.\t Junior  \n",
            "K\t Kelvin  \n",
            "kg.\t kilogram \n",
            "km.\t kilometer \n",
            "Lk.\t Lake \t   \n",
            "Ln.\t Lane \t   \n",
            "lib.\t library \n",
            "lat.\t latitude \n",
            "lib.\t library \n",
            "Lt.\t Lieutenant \n",
            "Ltd.\t Limited \n",
            "long.\t longitude \n",
            "m.\t meter \t   \n",
            "min.\t minute    \n",
            "M.D.\t Medical Doctor\t\t\n",
            "M.D.\t Medicinae Doctor\n",
            "mi.\t mile \n",
            "mph.\t miles per hour\n",
            "mg.\t milligram \n",
            "mm.\t millimeter \n",
            "Mr.\t Mister     \n",
            "Msgr.\t Monsignor \n",
            "mo.\t month \t   \n",
            "mt.\t mountain \n",
            "mus.\t museum   \n",
            "N.\t north \t  \n",
            "Nov.\t November \n",
            "no.\t number   \n",
            "Oct.\t October \n",
            "oz.\t ounce \t \n",
            "p.\t page \t \n",
            "pt.\t pint \t \n",
            "pl.\t plural  \n",
            "pop.\t population \n",
            "P.M.\t post meridiem (after noon)\n",
            "Prof.\t Professor    \n",
            "qt.\t quart \t           \n",
            "Rd.\t Road \t\t        \n",
            "R.N.\t Registered Nurse\n",
            "rpm\t revolutions per minute \n",
            "sec.\t second         \n",
            "Sept.\t September  \n",
            "Sgt.\t Sergeant   \n",
            "Sr.\t Sister        \n",
            "S.\t south \t          \n",
            "sq\t square \t     \n",
            "Sta.\t Station    \n",
            "St.\t Street        \n",
            "ste.\t suite \t          \n",
            "Sun.\t Sunday \t     \n",
            "Ter.\t Terrace    \n",
            "Tpk.\t Turnpike   \n",
            "Univ.\t University \n",
            "U.S.A.\t United States of America\tUSA or\n",
            "vol.\t volume             \n",
            "wt.\t weight \t         \n",
            "W.\t west \t\t\t      \n"
          ]
        }
      ]
    },
    {
      "cell_type": "code",
      "source": [
        "abb_dict = ast.literal_eval(data)\n",
        "pass\n",
        "pass\n",
        "pass"
      ],
      "metadata": {
        "colab": {
          "base_uri": "https://localhost:8080/",
          "height": 349
        },
        "id": "EVho1QXq436b",
        "outputId": "75426924-2d66-4057-c91c-e2f715985d03"
      },
      "execution_count": null,
      "outputs": [
        {
          "output_type": "error",
          "ename": "SyntaxError",
          "evalue": "invalid syntax (<unknown>, line 2)",
          "traceback": [
            "Traceback \u001b[0;36m(most recent call last)\u001b[0m:\n",
            "  File \u001b[1;32m\"/usr/local/lib/python3.10/dist-packages/IPython/core/interactiveshell.py\"\u001b[0m, line \u001b[1;32m3553\u001b[0m, in \u001b[1;35mrun_code\u001b[0m\n    exec(code_obj, self.user_global_ns, self.user_ns)\n",
            "  File \u001b[1;32m\"<ipython-input-15-98e4da64e8c6>\"\u001b[0m, line \u001b[1;32m1\u001b[0m, in \u001b[1;35m<cell line: 1>\u001b[0m\n    abb_dict = ast.literal_eval(data)\n",
            "  File \u001b[1;32m\"/usr/lib/python3.10/ast.py\"\u001b[0m, line \u001b[1;32m64\u001b[0m, in \u001b[1;35mliteral_eval\u001b[0m\n    node_or_string = parse(node_or_string.lstrip(\" \\t\"), mode='eval')\n",
            "\u001b[0;36m  File \u001b[0;32m\"/usr/lib/python3.10/ast.py\"\u001b[0;36m, line \u001b[0;32m50\u001b[0;36m, in \u001b[0;35mparse\u001b[0;36m\u001b[0m\n\u001b[0;31m    return compile(source, filename, mode, flags,\u001b[0m\n",
            "\u001b[0;36m  File \u001b[0;32m\"<unknown>\"\u001b[0;36m, line \u001b[0;32m2\u001b[0m\n\u001b[0;31m    awl.\t absent without leave\u001b[0m\n\u001b[0m    ^\u001b[0m\n\u001b[0;31mSyntaxError\u001b[0m\u001b[0;31m:\u001b[0m invalid syntax\n"
          ]
        }
      ]
    },
    {
      "cell_type": "code",
      "source": [],
      "metadata": {
        "id": "7FfkqgBn6Og5"
      },
      "execution_count": null,
      "outputs": []
    }
  ]
}